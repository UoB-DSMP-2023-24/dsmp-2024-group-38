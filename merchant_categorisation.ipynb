{
 "cells": [
  {
   "cell_type": "code",
   "execution_count": 7,
   "metadata": {},
   "outputs": [],
   "source": [
    "import pandas as pd\n",
    "import numpy as np"
   ]
  },
  {
   "cell_type": "code",
   "execution_count": 8,
   "metadata": {},
   "outputs": [],
   "source": [
    "#print max rows\n",
    "pd.set_option('display.max_rows', 500)\n",
    "\n",
    "bank = pd.read_csv('fake_transactional_data_24.csv')\n",
    "\n",
    "## take 0.5% sample of the data\n",
    "## Only do this so you can easily view the entire 'bank' dataframe otherwise it's too big and slow to load\n",
    "\n",
    "# bank = bank.sample(frac=0.005, random_state=1)"
   ]
  },
  {
   "cell_type": "markdown",
   "metadata": {},
   "source": [
    "Can see below the 79 different vendors that are listed as various different business names in the beneficiary column"
   ]
  },
  {
   "cell_type": "code",
   "execution_count": 9,
   "metadata": {},
   "outputs": [
    {
     "name": "stdout",
     "output_type": "stream",
     "text": [
      "['CINEMA' 'HIPSTER_COFFEE_SHOP' 'TOTALLY_A_REAL_COFFEE_SHOP' 'COFFEE_SHOP'\n",
      " 'CAFE' 'A_CAFE' 'LOCAL_RESTAURANT' 'A_LOCAL_COFFEE_SHOP'\n",
      " 'GOURMET_COFFEE_SHOP' 'LOCAL_WATERING_HOLE' 'SANDWICH_SHOP' 'TOY_SHOP'\n",
      " 'PRETENTIOUS_COFFEE_SHOP' 'BAR' 'PUB' 'COMIC_BOOK_SHOP' 'LUNCH_VAN'\n",
      " 'DEPARTMENT_STORE' 'KEBAB_SHOP' 'WINE_BAR' 'ELECTRONICS_SHOP'\n",
      " 'RESTAURANT' 'LOCAL_PUB' 'LUNCH_PLACE' 'FASHION_SHOP'\n",
      " 'FASHIONABLE_SPORTSWARE_SHOP' 'SCHOOL_SUPPLY_STORE' 'LOCAL_BOOKSHOP'\n",
      " 'TRAINER_SHOP' 'BOOKSHOP' 'KIDS_ACTIVITY_CENTRE' 'VIDEO_GAME_STORE'\n",
      " 'CLOTHES_SHOP' 'TAKEAWAY_CURRY' 'TECH_SHOP' 'NERDY_BOOK_STORE'\n",
      " 'WHISKEY_BAR' 'PET_TOY_SHOP' 'DVD_SHOP' 'CHILDRENDS_SHOP' 'GAME_SHOP'\n",
      " 'INDIAN_RESTAURANT' 'COCKTAIL_BAR' 'RUNNING_SHOP' 'DIY_STORE' 'COOKSHOP'\n",
      " 'HOME_IMPROVEMENT_STORE' 'PET_SHOP' 'CHINESE_TAKEAWAY' 'BUTCHERS'\n",
      " 'SECOND_HAND_BOOKSHOP' 'G&T_BAR' 'GREENGROCER' 'JEWLLERY_SHOP'\n",
      " 'ACCESSORY_SHOP' 'TAKEAWAY' 'KIDS_CLOTHING_SHOP' 'SPORT_SHOP'\n",
      " 'STEAK_HOUSE' 'HIPSTER_ELECTRONICS_SHOP' 'CHINESE_RESTAURANT'\n",
      " 'SEAFOOD_RESAURANT' 'STREAMING_SERVICE' 'GYM' 'WHISKEY_SHOP' 'TEA_SHOP'\n",
      " 'RESTAURANT_VOUCHER' 'ROASTERIE' 'LIQUOR_STORE' 'TO_BEAN_OR_NOT_TO_BEAN'\n",
      " 'WINE_CELLAR' 'WE_HAVE_BEAN_WEIGHTING' 'LARGE_SUPERMARKET'\n",
      " 'EXPRESS_SUPERMARKET' 'BUTCHER' 'A_SUPERMARKET' 'THE_SUPERMARKET'\n",
      " 'FLORIST' 'TURKEY_FARM']\n",
      "79\n"
     ]
    }
   ],
   "source": [
    "# assign a column to bank dataframe that stores 1 if the value in 'to_randomly_generated_account' is non-numerical and 0 otherwise\n",
    "bank['test_string'] = bank['to_randomly_generated_account'].apply(lambda x: 1 if not x.isdigit() else 0)\n",
    "\n",
    "# print unique values in 'to_randomly_generated_account' column where 'test_string' is 1\n",
    "print(bank[bank['test_string'] == 1]['to_randomly_generated_account'].unique())\n",
    "\n",
    "#print number of unique values in 'to_randomly_generated_account' column where 'test_string' is 1\n",
    "print(bank[bank['test_string'] == 1]['to_randomly_generated_account'].nunique())"
   ]
  },
  {
   "cell_type": "code",
   "execution_count": 10,
   "metadata": {},
   "outputs": [
    {
     "name": "stdout",
     "output_type": "stream",
     "text": [
      "Index(['from_totally_fake_account', 'monopoly_money_amount',\n",
      "       'to_randomly_generated_account', 'not_happened_yet_date',\n",
      "       'test_string'],\n",
      "      dtype='object')\n"
     ]
    }
   ],
   "source": [
    "#get column names\n",
    "print(bank.columns)"
   ]
  },
  {
   "cell_type": "code",
   "execution_count": 12,
   "metadata": {},
   "outputs": [
    {
     "name": "stdout",
     "output_type": "stream",
     "text": [
      "[10371. 88339. 18555. ... 30084. 21021. 22429.]\n",
      "8142\n"
     ]
    }
   ],
   "source": [
    "# assign a column to bank dataframe that stores 1 if the value in 'from' is non-numerical and 0 otherwise\n",
    "#bank['test_string_sender'] = bank['from_totally_fake_account'].apply(lambda x: 1 if not x.isdigit() else 0)\n",
    "\n",
    "# only get an error if we try to convert the entire column to a string - means there are only numerical values in the column - i.e. account numbers not any businesses.\n",
    "# therefore there's no business payments/refunds/salaries being paid to consumers.\n",
    "bank['test_string_sender'] = bank['from_totally_fake_account'].astype(str).apply(lambda x: 1 if not x.isdigit() else 0)\n",
    "\n",
    "# print unique values in 'to_randomly_generated_account' column where 'test_string' is 1\n",
    "print(bank[bank['test_string_sender'] == 1]['from_totally_fake_account'].unique())\n",
    "\n",
    "#print number of unique values in 'to_randomly_generated_account' column where 'test_string' is 1\n",
    "print(bank[bank['test_string_sender'] == 1]['from_totally_fake_account'].nunique())"
   ]
  },
  {
   "cell_type": "markdown",
   "metadata": {},
   "source": [
    "Have 8142 unique accounts"
   ]
  },
  {
   "cell_type": "markdown",
   "metadata": {},
   "source": [
    "### Proposed categories:\n",
    "\n",
    "- `Alcohol shop`\n",
    "- `Coffee`\n",
    "- `Restaurant`\n",
    "- `Entertainment` - cinemas and online streaming\n",
    "- `Home Goods`\n",
    "- `Supermarkets`\n",
    "- `Apparrel/Clothes`\n",
    "- `Book stores`\n",
    "- `Gym`  \n",
    "- `Pub/bars`\n",
    "- `Takeaway`\n",
    "- `Sports shops`\n",
    "- `Children`\n",
    "- `Pet shops`   \n",
    "- `Technology stores`\n",
    "- `Greengrocer`\n",
    "- `Butcher`\n",
    "- `Game/DVD store`"
   ]
  },
  {
   "cell_type": "code",
   "execution_count": 27,
   "metadata": {},
   "outputs": [],
   "source": [
    "# regex search patterns\n",
    "val_replace_cafe = ['coffee', 'tea', 'cafe']\n",
    "val_replace_book_store = ['book', 'book store', 'bookshop']  \n",
    "val_replace_alcohol = ['WINE_CELLAR', 'alcohol', 'liquor','whiskey']\n",
    "val_replace_pub = ['bar','pub','LOCAL_WATERING_HOLE']\n",
    "val_replace_restaurant = ['restaurant','SEAFOOD_RESAURANT' , 'steak house', 'KEBAB_SHOP', 'SANDWICH_SHOP', 'roasterie','lunch']\n",
    "val_replace_entertainment = ['cinema','streaming']\n",
    "val_replace_home = ['DIY', 'home', 'COOKSHOP']\n",
    "val_replace_supermarket = ['supermarket']\n",
    "val_replace_green_grocer = ['GREENGROCER']\n",
    "val_replace_clothing = ['clothing', 'fashion', 'clothes', 'ACCESSORY_SHOP']\n",
    "val_replace_gym = ['gym']\n",
    "val_replace_takeaway = ['takeaway']\n",
    "val_replace_sports_store = ['sport','sportsware','running','trainer','FASHIONABLE_SPORTSWARE_SHOP']\n",
    "val_replace_children = ['child','toy', 'kids', 'CHILDRENDS_SHOP']\n",
    "val_replace_pets = ['pet', 'PET_TOY_SHOP']\n",
    "val_replace_tech_store = ['tech','electronics']\n",
    "val_replace_butcher = ['BUTCHER', 'TURKEY_FARM']\n",
    "val_replace_game = ['game', 'DVD']\n",
    "val_replace_jeweller = ['JEWLLERY_SHOP']\n",
    "\n",
    "# replacement group categories\n",
    "merchant_names = ['Cafe', 'Book Store','Alcohol', 'Pub', 'Restaurant', 'Entertainment', 'Home',\n",
    "                  'Supermarket', 'Green Grocer', 'Clothing', 'Gym', 'Takeaway', 'Sports Store', 'Children','Pets', 'Tech Store', 'Butcher', 'Game', 'Jewellery']"
   ]
  },
  {
   "cell_type": "code",
   "execution_count": 28,
   "metadata": {},
   "outputs": [],
   "source": [
    "grouping_conditions = [\n",
    "    \n",
    "    bank['to_randomly_generated_account'].str.contains('|'.join(val_replace_cafe), case=False, regex=True),\n",
    "    bank['to_randomly_generated_account'].str.contains('|'.join(val_replace_book_store), case=False, regex=True),\n",
    "    bank['to_randomly_generated_account'].str.contains('|'.join(val_replace_alcohol), case=False, regex=True),\n",
    "    bank['to_randomly_generated_account'].str.contains('|'.join(val_replace_pub), case=False, regex=True),\n",
    "    bank['to_randomly_generated_account'].str.contains('|'.join(val_replace_restaurant), case=False, regex=True),\n",
    "    bank['to_randomly_generated_account'].str.contains('|'.join(val_replace_entertainment), case=False, regex=True),\n",
    "    bank['to_randomly_generated_account'].str.contains('|'.join(val_replace_home), case=False, regex=True),\n",
    "    bank['to_randomly_generated_account'].str.contains('|'.join(val_replace_supermarket), case=False, regex=True),\n",
    "    bank['to_randomly_generated_account'].str.contains('|'.join(val_replace_green_grocer), case=False, regex=True),\n",
    "    bank['to_randomly_generated_account'].str.contains('|'.join(val_replace_clothing), case=False, regex=True),\n",
    "    bank['to_randomly_generated_account'].str.contains('|'.join(val_replace_gym), case=False, regex=True),\n",
    "    bank['to_randomly_generated_account'].str.contains('|'.join(val_replace_takeaway), case=False, regex=True),\n",
    "    bank['to_randomly_generated_account'].str.contains('|'.join(val_replace_sports_store), case=False, regex=True),\n",
    "    bank['to_randomly_generated_account'].str.contains('|'.join(val_replace_children), case=False, regex=True),\n",
    "    bank['to_randomly_generated_account'].str.contains('|'.join(val_replace_pets), case=False, regex=True),\n",
    "    bank['to_randomly_generated_account'].str.contains('|'.join(val_replace_tech_store), case=False, regex=True),\n",
    "    bank['to_randomly_generated_account'].str.contains('|'.join(val_replace_butcher), case=False, regex=True),\n",
    "    bank['to_randomly_generated_account'].str.contains('|'.join(val_replace_game), case=False, regex=True),\n",
    "    bank['to_randomly_generated_account'].str.contains('|'.join(val_replace_jeweller), case=False, regex=True)\n",
    "\n",
    "]\n"
   ]
  },
  {
   "cell_type": "code",
   "execution_count": 29,
   "metadata": {},
   "outputs": [],
   "source": [
    "# assign new merchant categories\n",
    "bank['business_name'] = np.select(grouping_conditions, merchant_names, default='')"
   ]
  },
  {
   "cell_type": "markdown",
   "metadata": {},
   "source": [
    "If you now look inside the `bank` dataframe - you can see another column in the dataframe which categorises the different businesses where money has been spent at."
   ]
  }
 ],
 "metadata": {
  "kernelspec": {
   "display_name": "Python 3",
   "language": "python",
   "name": "python3"
  },
  "language_info": {
   "codemirror_mode": {
    "name": "ipython",
    "version": 3
   },
   "file_extension": ".py",
   "mimetype": "text/x-python",
   "name": "python",
   "nbconvert_exporter": "python",
   "pygments_lexer": "ipython3",
   "version": "3.12.1"
  }
 },
 "nbformat": 4,
 "nbformat_minor": 2
}
