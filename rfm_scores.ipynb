{
 "cells": [
  {
   "cell_type": "code",
   "execution_count": 1,
   "metadata": {},
   "outputs": [],
   "source": [
    "#import libraries\n",
    "import pandas as pd\n",
    "import numpy as np\n",
    "import matplotlib.pyplot as plt\n",
    "import seaborn as sns"
   ]
  },
  {
   "cell_type": "code",
   "execution_count": 2,
   "metadata": {},
   "outputs": [],
   "source": [
    "# display all rows \n",
    "pd.set_option('display.max_rows', None)\n",
    "bank_max = pd.read_csv('fake_transactional_data_24.csv')"
   ]
  },
  {
   "cell_type": "code",
   "execution_count": 3,
   "metadata": {},
   "outputs": [
    {
     "name": "stdout",
     "output_type": "stream",
     "text": [
      "<class 'pandas.core.frame.DataFrame'>\n",
      "RangeIndex: 10148280 entries, 0 to 10148279\n",
      "Data columns (total 4 columns):\n",
      " #   Column                         Dtype  \n",
      "---  ------                         -----  \n",
      " 0   from_totally_fake_account      float64\n",
      " 1   monopoly_money_amount          float64\n",
      " 2   to_randomly_generated_account  object \n",
      " 3   not_happened_yet_date          object \n",
      "dtypes: float64(2), object(2)\n",
      "memory usage: 309.7+ MB\n",
      "(10148280, 4)\n"
     ]
    }
   ],
   "source": [
    "#head of the data\n",
    "bank_max.info()\n",
    "print(bank_max.shape)"
   ]
  },
  {
   "cell_type": "markdown",
   "metadata": {},
   "source": [
    "Date comes in a day first format"
   ]
  },
  {
   "cell_type": "code",
   "execution_count": 4,
   "metadata": {},
   "outputs": [
    {
     "data": {
      "text/plain": [
       "(10148280, 4)"
      ]
     },
     "execution_count": 4,
     "metadata": {},
     "output_type": "execute_result"
    }
   ],
   "source": [
    "#take sample of 20% of the data\n",
    "#bank = bank_max.sample(frac=1, random_state=1)\n",
    "\n",
    "# full dataset\n",
    "bank = bank_max\n",
    "\n",
    "bank.shape"
   ]
  },
  {
   "cell_type": "code",
   "execution_count": 5,
   "metadata": {},
   "outputs": [],
   "source": [
    "# filter out rows where there is a numeric value in the 'to_randomly_generated_account' column - only looking at C2B payments\n",
    "bank = bank[bank['to_randomly_generated_account'].str.isnumeric() == False]"
   ]
  },
  {
   "cell_type": "code",
   "execution_count": 6,
   "metadata": {},
   "outputs": [
    {
     "data": {
      "text/html": [
       "<div>\n",
       "<style scoped>\n",
       "    .dataframe tbody tr th:only-of-type {\n",
       "        vertical-align: middle;\n",
       "    }\n",
       "\n",
       "    .dataframe tbody tr th {\n",
       "        vertical-align: top;\n",
       "    }\n",
       "\n",
       "    .dataframe thead th {\n",
       "        text-align: right;\n",
       "    }\n",
       "</style>\n",
       "<table border=\"1\" class=\"dataframe\">\n",
       "  <thead>\n",
       "    <tr style=\"text-align: right;\">\n",
       "      <th></th>\n",
       "      <th>from_totally_fake_account</th>\n",
       "      <th>monopoly_money_amount</th>\n",
       "      <th>to_randomly_generated_account</th>\n",
       "      <th>not_happened_yet_date</th>\n",
       "    </tr>\n",
       "  </thead>\n",
       "  <tbody>\n",
       "    <tr>\n",
       "      <th>9474872</th>\n",
       "      <td>100214.0</td>\n",
       "      <td>74.99</td>\n",
       "      <td>WINE_CELLAR</td>\n",
       "      <td>09/12/2025</td>\n",
       "    </tr>\n",
       "    <tr>\n",
       "      <th>552937</th>\n",
       "      <td>61802.0</td>\n",
       "      <td>24.99</td>\n",
       "      <td>WINE_CELLAR</td>\n",
       "      <td>20/01/2025</td>\n",
       "    </tr>\n",
       "    <tr>\n",
       "      <th>7910414</th>\n",
       "      <td>11630.0</td>\n",
       "      <td>24.99</td>\n",
       "      <td>WINE_CELLAR</td>\n",
       "      <td>14/10/2025</td>\n",
       "    </tr>\n",
       "    <tr>\n",
       "      <th>552917</th>\n",
       "      <td>53177.0</td>\n",
       "      <td>74.99</td>\n",
       "      <td>WINE_CELLAR</td>\n",
       "      <td>20/01/2025</td>\n",
       "    </tr>\n",
       "    <tr>\n",
       "      <th>1935308</th>\n",
       "      <td>28673.0</td>\n",
       "      <td>24.99</td>\n",
       "      <td>WINE_CELLAR</td>\n",
       "      <td>11/03/2025</td>\n",
       "    </tr>\n",
       "  </tbody>\n",
       "</table>\n",
       "</div>"
      ],
      "text/plain": [
       "         from_totally_fake_account  monopoly_money_amount  \\\n",
       "9474872                   100214.0                  74.99   \n",
       "552937                     61802.0                  24.99   \n",
       "7910414                    11630.0                  24.99   \n",
       "552917                     53177.0                  74.99   \n",
       "1935308                    28673.0                  24.99   \n",
       "\n",
       "        to_randomly_generated_account not_happened_yet_date  \n",
       "9474872                   WINE_CELLAR            09/12/2025  \n",
       "552937                    WINE_CELLAR            20/01/2025  \n",
       "7910414                   WINE_CELLAR            14/10/2025  \n",
       "552917                    WINE_CELLAR            20/01/2025  \n",
       "1935308                   WINE_CELLAR            11/03/2025  "
      ]
     },
     "execution_count": 6,
     "metadata": {},
     "output_type": "execute_result"
    }
   ],
   "source": [
    "#sort the data by the 'to_randomly_generated_account' column - check account numbers have been removed from the beneficiary column\n",
    "bank = bank.sort_values(by='to_randomly_generated_account', ascending=False)\n",
    "bank.head()"
   ]
  },
  {
   "cell_type": "code",
   "execution_count": 7,
   "metadata": {},
   "outputs": [
    {
     "ename": "NameError",
     "evalue": "name 'rfm_merged' is not defined",
     "output_type": "error",
     "traceback": [
      "\u001b[1;31m---------------------------------------------------------------------------\u001b[0m",
      "\u001b[1;31mNameError\u001b[0m                                 Traceback (most recent call last)",
      "Cell \u001b[1;32mIn[7], line 2\u001b[0m\n\u001b[0;32m      1\u001b[0m \u001b[38;5;66;03m#concert 'not_happened_yet_date' to datetime format\u001b[39;00m\n\u001b[1;32m----> 2\u001b[0m bank[\u001b[38;5;124m'\u001b[39m\u001b[38;5;124mnot_happened_yet_date\u001b[39m\u001b[38;5;124m'\u001b[39m] \u001b[38;5;241m=\u001b[39m pd\u001b[38;5;241m.\u001b[39mto_datetime(\u001b[43mrfm_merged\u001b[49m[\u001b[38;5;124m'\u001b[39m\u001b[38;5;124mnot_happened_yet_date\u001b[39m\u001b[38;5;124m'\u001b[39m],dayfirst\u001b[38;5;241m=\u001b[39m\u001b[38;5;28;01mTrue\u001b[39;00m)\n\u001b[0;32m      4\u001b[0m bank\u001b[38;5;241m.\u001b[39mhead()\n",
      "\u001b[1;31mNameError\u001b[0m: name 'rfm_merged' is not defined"
     ]
    }
   ],
   "source": [
    "#concert 'not_happened_yet_date' to datetime format\n",
    "bank['not_happened_yet_date'] = pd.to_datetime(rfm_merged['not_happened_yet_date'],dayfirst=True)\n",
    "\n",
    "bank.head()"
   ]
  },
  {
   "cell_type": "code",
   "execution_count": null,
   "metadata": {},
   "outputs": [
    {
     "name": "stdout",
     "output_type": "stream",
     "text": [
      "2025-12-31 00:00:00\n"
     ]
    }
   ],
   "source": [
    "# last date of the data\n",
    "print(bank['not_happened_yet_date'].max())"
   ]
  },
  {
   "cell_type": "markdown",
   "metadata": {},
   "source": [
    "Now set our benchmark most recent time for recency score as the latest date"
   ]
  },
  {
   "cell_type": "code",
   "execution_count": null,
   "metadata": {},
   "outputs": [
    {
     "name": "stdout",
     "output_type": "stream",
     "text": [
      "2026-01-01 00:00:00\n"
     ]
    }
   ],
   "source": [
    "now = bank['not_happened_yet_date'].max() + pd.DateOffset(days=1)\n",
    "print(now)"
   ]
  },
  {
   "cell_type": "code",
   "execution_count": null,
   "metadata": {},
   "outputs": [
    {
     "data": {
      "text/plain": [
       "(7615517, 5)"
      ]
     },
     "execution_count": 17,
     "metadata": {},
     "output_type": "execute_result"
    }
   ],
   "source": [
    "# Create a new column and label a number for every time a transaction is made to a specific account in the 'to_randomly_generated_account' column\n",
    "bank['transaction_freq_id'] = bank['from_totally_fake_account'] + 5\n",
    "\n",
    "bank.head()\n",
    "bank.shape"
   ]
  },
  {
   "cell_type": "markdown",
   "metadata": {},
   "source": [
    "use max instead of min for the recency to get lower scores first (which are better)"
   ]
  },
  {
   "cell_type": "code",
   "execution_count": null,
   "metadata": {},
   "outputs": [
    {
     "data": {
      "text/html": [
       "<div>\n",
       "<style scoped>\n",
       "    .dataframe tbody tr th:only-of-type {\n",
       "        vertical-align: middle;\n",
       "    }\n",
       "\n",
       "    .dataframe tbody tr th {\n",
       "        vertical-align: top;\n",
       "    }\n",
       "\n",
       "    .dataframe thead th {\n",
       "        text-align: right;\n",
       "    }\n",
       "</style>\n",
       "<table border=\"1\" class=\"dataframe\">\n",
       "  <thead>\n",
       "    <tr style=\"text-align: right;\">\n",
       "      <th></th>\n",
       "      <th>recency</th>\n",
       "      <th>frequency</th>\n",
       "      <th>monetary</th>\n",
       "    </tr>\n",
       "    <tr>\n",
       "      <th>from_totally_fake_account</th>\n",
       "      <th></th>\n",
       "      <th></th>\n",
       "      <th></th>\n",
       "    </tr>\n",
       "  </thead>\n",
       "  <tbody>\n",
       "    <tr>\n",
       "      <th>1000.0</th>\n",
       "      <td>1</td>\n",
       "      <td>1335</td>\n",
       "      <td>10485.46</td>\n",
       "    </tr>\n",
       "    <tr>\n",
       "      <th>1002.0</th>\n",
       "      <td>1</td>\n",
       "      <td>691</td>\n",
       "      <td>9155.67</td>\n",
       "    </tr>\n",
       "    <tr>\n",
       "      <th>1006.0</th>\n",
       "      <td>1</td>\n",
       "      <td>1553</td>\n",
       "      <td>14715.49</td>\n",
       "    </tr>\n",
       "    <tr>\n",
       "      <th>1018.0</th>\n",
       "      <td>2</td>\n",
       "      <td>687</td>\n",
       "      <td>11304.51</td>\n",
       "    </tr>\n",
       "    <tr>\n",
       "      <th>1053.0</th>\n",
       "      <td>1</td>\n",
       "      <td>1012</td>\n",
       "      <td>13139.22</td>\n",
       "    </tr>\n",
       "  </tbody>\n",
       "</table>\n",
       "</div>"
      ],
      "text/plain": [
       "                           recency  frequency  monetary\n",
       "from_totally_fake_account                              \n",
       "1000.0                           1       1335  10485.46\n",
       "1002.0                           1        691   9155.67\n",
       "1006.0                           1       1553  14715.49\n",
       "1018.0                           2        687  11304.51\n",
       "1053.0                           1       1012  13139.22"
      ]
     },
     "execution_count": 18,
     "metadata": {},
     "output_type": "execute_result"
    }
   ],
   "source": [
    "rfm = bank.groupby('from_totally_fake_account').agg({'not_happened_yet_date': lambda date: (now - date.max()).days, # recency\n",
    "                                                     'transaction_freq_id': lambda num: len(num), # frequency\n",
    "                                                     'monopoly_money_amount': lambda spend: spend.sum(), # monetary value\n",
    "                                                     })\n",
    "\n",
    "rfm.columns = ['recency', 'frequency', 'monetary']\n",
    "\n",
    "(rfm.head(5))"
   ]
  },
  {
   "cell_type": "code",
   "execution_count": null,
   "metadata": {},
   "outputs": [],
   "source": [
    "# split the rececny, frequency and monetary into 4 quartiles. \n",
    "\n",
    "# more recent the transaction is, the lower the recency value. Should go in a lower quartile. I.e. best is the first quartile.\n",
    "rfm['r_quartile'] = pd.qcut(rfm['recency'].rank(method='first'), q=4,labels=['4','3','2','1'])\n",
    "rfm['f_quartile'] = pd.qcut(rfm['frequency'].rank(method='first'), q=4, labels=['1','2','3','4'])\n",
    "rfm['m_quartile'] = pd.qcut(rfm['monetary'].rank(method='first'), q=4, labels=['1','2','3','4'])"
   ]
  },
  {
   "cell_type": "code",
   "execution_count": null,
   "metadata": {},
   "outputs": [
    {
     "data": {
      "text/html": [
       "<div>\n",
       "<style scoped>\n",
       "    .dataframe tbody tr th:only-of-type {\n",
       "        vertical-align: middle;\n",
       "    }\n",
       "\n",
       "    .dataframe tbody tr th {\n",
       "        vertical-align: top;\n",
       "    }\n",
       "\n",
       "    .dataframe thead th {\n",
       "        text-align: right;\n",
       "    }\n",
       "</style>\n",
       "<table border=\"1\" class=\"dataframe\">\n",
       "  <thead>\n",
       "    <tr style=\"text-align: right;\">\n",
       "      <th></th>\n",
       "      <th>recency</th>\n",
       "      <th>frequency</th>\n",
       "      <th>monetary</th>\n",
       "      <th>r_quartile</th>\n",
       "      <th>f_quartile</th>\n",
       "      <th>m_quartile</th>\n",
       "      <th>RFM_Segment</th>\n",
       "      <th>RFM_Score</th>\n",
       "    </tr>\n",
       "    <tr>\n",
       "      <th>from_totally_fake_account</th>\n",
       "      <th></th>\n",
       "      <th></th>\n",
       "      <th></th>\n",
       "      <th></th>\n",
       "      <th></th>\n",
       "      <th></th>\n",
       "      <th></th>\n",
       "      <th></th>\n",
       "    </tr>\n",
       "  </thead>\n",
       "  <tbody>\n",
       "    <tr>\n",
       "      <th>1000.0</th>\n",
       "      <td>1</td>\n",
       "      <td>1335</td>\n",
       "      <td>10485.46</td>\n",
       "      <td>4</td>\n",
       "      <td>4</td>\n",
       "      <td>1</td>\n",
       "      <td>441</td>\n",
       "      <td>9</td>\n",
       "    </tr>\n",
       "    <tr>\n",
       "      <th>1002.0</th>\n",
       "      <td>1</td>\n",
       "      <td>691</td>\n",
       "      <td>9155.67</td>\n",
       "      <td>4</td>\n",
       "      <td>1</td>\n",
       "      <td>1</td>\n",
       "      <td>411</td>\n",
       "      <td>6</td>\n",
       "    </tr>\n",
       "    <tr>\n",
       "      <th>1006.0</th>\n",
       "      <td>1</td>\n",
       "      <td>1553</td>\n",
       "      <td>14715.49</td>\n",
       "      <td>4</td>\n",
       "      <td>4</td>\n",
       "      <td>3</td>\n",
       "      <td>443</td>\n",
       "      <td>11</td>\n",
       "    </tr>\n",
       "    <tr>\n",
       "      <th>1018.0</th>\n",
       "      <td>2</td>\n",
       "      <td>687</td>\n",
       "      <td>11304.51</td>\n",
       "      <td>1</td>\n",
       "      <td>1</td>\n",
       "      <td>2</td>\n",
       "      <td>112</td>\n",
       "      <td>4</td>\n",
       "    </tr>\n",
       "    <tr>\n",
       "      <th>1053.0</th>\n",
       "      <td>1</td>\n",
       "      <td>1012</td>\n",
       "      <td>13139.22</td>\n",
       "      <td>4</td>\n",
       "      <td>3</td>\n",
       "      <td>3</td>\n",
       "      <td>433</td>\n",
       "      <td>10</td>\n",
       "    </tr>\n",
       "  </tbody>\n",
       "</table>\n",
       "</div>"
      ],
      "text/plain": [
       "                           recency  frequency  monetary r_quartile f_quartile  \\\n",
       "from_totally_fake_account                                                       \n",
       "1000.0                           1       1335  10485.46          4          4   \n",
       "1002.0                           1        691   9155.67          4          1   \n",
       "1006.0                           1       1553  14715.49          4          4   \n",
       "1018.0                           2        687  11304.51          1          1   \n",
       "1053.0                           1       1012  13139.22          4          3   \n",
       "\n",
       "                          m_quartile RFM_Segment  RFM_Score  \n",
       "from_totally_fake_account                                    \n",
       "1000.0                             1         441          9  \n",
       "1002.0                             1         411          6  \n",
       "1006.0                             3         443         11  \n",
       "1018.0                             2         112          4  \n",
       "1053.0                             3         433         10  "
      ]
     },
     "execution_count": 20,
     "metadata": {},
     "output_type": "execute_result"
    }
   ],
   "source": [
    "rfm['RFM_Segment'] = rfm.r_quartile.astype(str)+ rfm.f_quartile.astype(str) + rfm.m_quartile.astype(str)\n",
    "rfm['RFM_Score'] = rfm.r_quartile.astype(int) + rfm.f_quartile.astype(int) + rfm.m_quartile.astype(int)\n",
    "rfm.head()"
   ]
  },
  {
   "cell_type": "code",
   "execution_count": null,
   "metadata": {},
   "outputs": [
    {
     "data": {
      "text/html": [
       "<div>\n",
       "<style scoped>\n",
       "    .dataframe tbody tr th:only-of-type {\n",
       "        vertical-align: middle;\n",
       "    }\n",
       "\n",
       "    .dataframe tbody tr th {\n",
       "        vertical-align: top;\n",
       "    }\n",
       "\n",
       "    .dataframe thead th {\n",
       "        text-align: right;\n",
       "    }\n",
       "</style>\n",
       "<table border=\"1\" class=\"dataframe\">\n",
       "  <thead>\n",
       "    <tr style=\"text-align: right;\">\n",
       "      <th></th>\n",
       "      <th>recency</th>\n",
       "      <th>frequency</th>\n",
       "      <th>monetary</th>\n",
       "      <th>r_quartile</th>\n",
       "      <th>f_quartile</th>\n",
       "      <th>m_quartile</th>\n",
       "      <th>RFM_Segment</th>\n",
       "      <th>RFM_Score</th>\n",
       "    </tr>\n",
       "    <tr>\n",
       "      <th>from_totally_fake_account</th>\n",
       "      <th></th>\n",
       "      <th></th>\n",
       "      <th></th>\n",
       "      <th></th>\n",
       "      <th></th>\n",
       "      <th></th>\n",
       "      <th></th>\n",
       "      <th></th>\n",
       "    </tr>\n",
       "  </thead>\n",
       "  <tbody>\n",
       "    <tr>\n",
       "      <th>1059.0</th>\n",
       "      <td>2</td>\n",
       "      <td>678</td>\n",
       "      <td>10709.59</td>\n",
       "      <td>1</td>\n",
       "      <td>1</td>\n",
       "      <td>1</td>\n",
       "      <td>111</td>\n",
       "      <td>3</td>\n",
       "    </tr>\n",
       "    <tr>\n",
       "      <th>1122.0</th>\n",
       "      <td>2</td>\n",
       "      <td>672</td>\n",
       "      <td>10966.03</td>\n",
       "      <td>1</td>\n",
       "      <td>1</td>\n",
       "      <td>1</td>\n",
       "      <td>111</td>\n",
       "      <td>3</td>\n",
       "    </tr>\n",
       "    <tr>\n",
       "      <th>1142.0</th>\n",
       "      <td>2</td>\n",
       "      <td>522</td>\n",
       "      <td>9020.06</td>\n",
       "      <td>1</td>\n",
       "      <td>1</td>\n",
       "      <td>1</td>\n",
       "      <td>111</td>\n",
       "      <td>3</td>\n",
       "    </tr>\n",
       "    <tr>\n",
       "      <th>1357.0</th>\n",
       "      <td>2</td>\n",
       "      <td>651</td>\n",
       "      <td>9801.39</td>\n",
       "      <td>1</td>\n",
       "      <td>1</td>\n",
       "      <td>1</td>\n",
       "      <td>111</td>\n",
       "      <td>3</td>\n",
       "    </tr>\n",
       "    <tr>\n",
       "      <th>1622.0</th>\n",
       "      <td>4</td>\n",
       "      <td>463</td>\n",
       "      <td>9052.25</td>\n",
       "      <td>1</td>\n",
       "      <td>1</td>\n",
       "      <td>1</td>\n",
       "      <td>111</td>\n",
       "      <td>3</td>\n",
       "    </tr>\n",
       "  </tbody>\n",
       "</table>\n",
       "</div>"
      ],
      "text/plain": [
       "                           recency  frequency  monetary r_quartile f_quartile  \\\n",
       "from_totally_fake_account                                                       \n",
       "1059.0                           2        678  10709.59          1          1   \n",
       "1122.0                           2        672  10966.03          1          1   \n",
       "1142.0                           2        522   9020.06          1          1   \n",
       "1357.0                           2        651   9801.39          1          1   \n",
       "1622.0                           4        463   9052.25          1          1   \n",
       "\n",
       "                          m_quartile RFM_Segment  RFM_Score  \n",
       "from_totally_fake_account                                    \n",
       "1059.0                             1         111          3  \n",
       "1122.0                             1         111          3  \n",
       "1142.0                             1         111          3  \n",
       "1357.0                             1         111          3  \n",
       "1622.0                             1         111          3  "
      ]
     },
     "execution_count": 21,
     "metadata": {},
     "output_type": "execute_result"
    }
   ],
   "source": [
    "#show accounts with rfm score of 111 - worst lower quartile for recency, frequency and monetary\n",
    "rfm[rfm['RFM_Segment']=='111'].head(5)"
   ]
  },
  {
   "cell_type": "code",
   "execution_count": null,
   "metadata": {},
   "outputs": [
    {
     "data": {
      "text/html": [
       "<div>\n",
       "<style scoped>\n",
       "    .dataframe tbody tr th:only-of-type {\n",
       "        vertical-align: middle;\n",
       "    }\n",
       "\n",
       "    .dataframe tbody tr th {\n",
       "        vertical-align: top;\n",
       "    }\n",
       "\n",
       "    .dataframe thead th {\n",
       "        text-align: right;\n",
       "    }\n",
       "</style>\n",
       "<table border=\"1\" class=\"dataframe\">\n",
       "  <thead>\n",
       "    <tr style=\"text-align: right;\">\n",
       "      <th></th>\n",
       "      <th>recency</th>\n",
       "      <th>frequency</th>\n",
       "      <th>monetary</th>\n",
       "      <th>r_quartile</th>\n",
       "      <th>f_quartile</th>\n",
       "      <th>m_quartile</th>\n",
       "      <th>RFM_Segment</th>\n",
       "      <th>RFM_Score</th>\n",
       "    </tr>\n",
       "    <tr>\n",
       "      <th>from_totally_fake_account</th>\n",
       "      <th></th>\n",
       "      <th></th>\n",
       "      <th></th>\n",
       "      <th></th>\n",
       "      <th></th>\n",
       "      <th></th>\n",
       "      <th></th>\n",
       "      <th></th>\n",
       "    </tr>\n",
       "  </thead>\n",
       "  <tbody>\n",
       "    <tr>\n",
       "      <th>1214.0</th>\n",
       "      <td>1</td>\n",
       "      <td>1331</td>\n",
       "      <td>18452.83</td>\n",
       "      <td>4</td>\n",
       "      <td>4</td>\n",
       "      <td>4</td>\n",
       "      <td>444</td>\n",
       "      <td>12</td>\n",
       "    </tr>\n",
       "    <tr>\n",
       "      <th>1507.0</th>\n",
       "      <td>1</td>\n",
       "      <td>1372</td>\n",
       "      <td>16676.08</td>\n",
       "      <td>4</td>\n",
       "      <td>4</td>\n",
       "      <td>4</td>\n",
       "      <td>444</td>\n",
       "      <td>12</td>\n",
       "    </tr>\n",
       "    <tr>\n",
       "      <th>1703.0</th>\n",
       "      <td>1</td>\n",
       "      <td>1712</td>\n",
       "      <td>16994.83</td>\n",
       "      <td>4</td>\n",
       "      <td>4</td>\n",
       "      <td>4</td>\n",
       "      <td>444</td>\n",
       "      <td>12</td>\n",
       "    </tr>\n",
       "    <tr>\n",
       "      <th>2076.0</th>\n",
       "      <td>1</td>\n",
       "      <td>1477</td>\n",
       "      <td>19285.30</td>\n",
       "      <td>4</td>\n",
       "      <td>4</td>\n",
       "      <td>4</td>\n",
       "      <td>444</td>\n",
       "      <td>12</td>\n",
       "    </tr>\n",
       "    <tr>\n",
       "      <th>2100.0</th>\n",
       "      <td>1</td>\n",
       "      <td>1370</td>\n",
       "      <td>16900.24</td>\n",
       "      <td>4</td>\n",
       "      <td>4</td>\n",
       "      <td>4</td>\n",
       "      <td>444</td>\n",
       "      <td>12</td>\n",
       "    </tr>\n",
       "  </tbody>\n",
       "</table>\n",
       "</div>"
      ],
      "text/plain": [
       "                           recency  frequency  monetary r_quartile f_quartile  \\\n",
       "from_totally_fake_account                                                       \n",
       "1214.0                           1       1331  18452.83          4          4   \n",
       "1507.0                           1       1372  16676.08          4          4   \n",
       "1703.0                           1       1712  16994.83          4          4   \n",
       "2076.0                           1       1477  19285.30          4          4   \n",
       "2100.0                           1       1370  16900.24          4          4   \n",
       "\n",
       "                          m_quartile RFM_Segment  RFM_Score  \n",
       "from_totally_fake_account                                    \n",
       "1214.0                             4         444         12  \n",
       "1507.0                             4         444         12  \n",
       "1703.0                             4         444         12  \n",
       "2076.0                             4         444         12  \n",
       "2100.0                             4         444         12  "
      ]
     },
     "execution_count": 22,
     "metadata": {},
     "output_type": "execute_result"
    }
   ],
   "source": [
    "#show accounts with rfm score of 444 - best upper quartiles\n",
    "rfm[rfm['RFM_Segment']=='444'].head(5)\n",
    "\n",
    "# higher the rfm score, the better the customer is."
   ]
  },
  {
   "cell_type": "markdown",
   "metadata": {},
   "source": [
    "# RFM Score summary statistics"
   ]
  },
  {
   "cell_type": "code",
   "execution_count": null,
   "metadata": {},
   "outputs": [
    {
     "data": {
      "text/html": [
       "<div>\n",
       "<style scoped>\n",
       "    .dataframe tbody tr th:only-of-type {\n",
       "        vertical-align: middle;\n",
       "    }\n",
       "\n",
       "    .dataframe tbody tr th {\n",
       "        vertical-align: top;\n",
       "    }\n",
       "\n",
       "    .dataframe thead tr th {\n",
       "        text-align: left;\n",
       "    }\n",
       "\n",
       "    .dataframe thead tr:last-of-type th {\n",
       "        text-align: right;\n",
       "    }\n",
       "</style>\n",
       "<table border=\"1\" class=\"dataframe\">\n",
       "  <thead>\n",
       "    <tr>\n",
       "      <th></th>\n",
       "      <th>recency</th>\n",
       "      <th>frequency</th>\n",
       "      <th colspan=\"2\" halign=\"left\">monetary</th>\n",
       "    </tr>\n",
       "    <tr>\n",
       "      <th></th>\n",
       "      <th>mean</th>\n",
       "      <th>mean</th>\n",
       "      <th>mean</th>\n",
       "      <th>count</th>\n",
       "    </tr>\n",
       "    <tr>\n",
       "      <th>RFM_Score</th>\n",
       "      <th></th>\n",
       "      <th></th>\n",
       "      <th></th>\n",
       "      <th></th>\n",
       "    </tr>\n",
       "  </thead>\n",
       "  <tbody>\n",
       "    <tr>\n",
       "      <th>3</th>\n",
       "      <td>2.7</td>\n",
       "      <td>565.0</td>\n",
       "      <td>9337.2</td>\n",
       "      <td>491</td>\n",
       "    </tr>\n",
       "    <tr>\n",
       "      <th>4</th>\n",
       "      <td>2.1</td>\n",
       "      <td>637.1</td>\n",
       "      <td>10640.1</td>\n",
       "      <td>604</td>\n",
       "    </tr>\n",
       "    <tr>\n",
       "      <th>5</th>\n",
       "      <td>1.7</td>\n",
       "      <td>684.6</td>\n",
       "      <td>11268.9</td>\n",
       "      <td>778</td>\n",
       "    </tr>\n",
       "    <tr>\n",
       "      <th>6</th>\n",
       "      <td>1.4</td>\n",
       "      <td>724.8</td>\n",
       "      <td>11840.2</td>\n",
       "      <td>956</td>\n",
       "    </tr>\n",
       "    <tr>\n",
       "      <th>7</th>\n",
       "      <td>1.2</td>\n",
       "      <td>830.8</td>\n",
       "      <td>12306.5</td>\n",
       "      <td>1103</td>\n",
       "    </tr>\n",
       "    <tr>\n",
       "      <th>8</th>\n",
       "      <td>1.1</td>\n",
       "      <td>942.7</td>\n",
       "      <td>13103.3</td>\n",
       "      <td>1147</td>\n",
       "    </tr>\n",
       "    <tr>\n",
       "      <th>9</th>\n",
       "      <td>1.0</td>\n",
       "      <td>1085.1</td>\n",
       "      <td>13894.8</td>\n",
       "      <td>1129</td>\n",
       "    </tr>\n",
       "    <tr>\n",
       "      <th>10</th>\n",
       "      <td>1.0</td>\n",
       "      <td>1227.2</td>\n",
       "      <td>15072.5</td>\n",
       "      <td>1047</td>\n",
       "    </tr>\n",
       "    <tr>\n",
       "      <th>11</th>\n",
       "      <td>1.0</td>\n",
       "      <td>1335.7</td>\n",
       "      <td>15810.8</td>\n",
       "      <td>622</td>\n",
       "    </tr>\n",
       "    <tr>\n",
       "      <th>12</th>\n",
       "      <td>1.0</td>\n",
       "      <td>1469.3</td>\n",
       "      <td>16564.0</td>\n",
       "      <td>265</td>\n",
       "    </tr>\n",
       "  </tbody>\n",
       "</table>\n",
       "</div>"
      ],
      "text/plain": [
       "          recency frequency monetary      \n",
       "             mean      mean     mean count\n",
       "RFM_Score                                 \n",
       "3             2.7     565.0   9337.2   491\n",
       "4             2.1     637.1  10640.1   604\n",
       "5             1.7     684.6  11268.9   778\n",
       "6             1.4     724.8  11840.2   956\n",
       "7             1.2     830.8  12306.5  1103\n",
       "8             1.1     942.7  13103.3  1147\n",
       "9             1.0    1085.1  13894.8  1129\n",
       "10            1.0    1227.2  15072.5  1047\n",
       "11            1.0    1335.7  15810.8   622\n",
       "12            1.0    1469.3  16564.0   265"
      ]
     },
     "execution_count": 23,
     "metadata": {},
     "output_type": "execute_result"
    }
   ],
   "source": [
    "rfm.groupby('RFM_Score').agg({'recency': 'mean',\n",
    "                              'frequency': 'mean',\n",
    "                             'monetary': ['mean', 'count']}).round(1)\n"
   ]
  },
  {
   "cell_type": "markdown",
   "metadata": {},
   "source": [
    "The higher the RFM score, the lower the recency, higher the frequency and higher the monetary spend."
   ]
  },
  {
   "cell_type": "markdown",
   "metadata": {},
   "source": [
    "# K-means clustering\n"
   ]
  },
  {
   "cell_type": "code",
   "execution_count": null,
   "metadata": {},
   "outputs": [
    {
     "data": {
      "image/png": "[encoded data removed]",
      "text/plain": [
       "<Figure size 640x480 with 1 Axes>"
      ]
     },
     "metadata": {},
     "output_type": "display_data"
    }
   ],
   "source": [
    "sns.histplot(rfm['recency'],bins=5)\n",
    "plt.xlabel('Recency')\n",
    "plt.show()"
   ]
  },
  {
   "cell_type": "code",
   "execution_count": null,
   "metadata": {},
   "outputs": [
    {
     "data": {
      "image/png": "[encoded data removed]",
      "text/plain": [
       "<Figure size 500x500 with 1 Axes>"
      ]
     },
     "metadata": {},
     "output_type": "display_data"
    }
   ],
   "source": [
    "sns.displot(rfm['frequency'],bins=20)\n",
    "plt.xlabel('Frequency')\n",
    "plt.show()"
   ]
  },
  {
   "cell_type": "code",
   "execution_count": null,
   "metadata": {},
   "outputs": [
    {
     "data": {
      "image/png": "[encoded data removed]",
      "text/plain": [
       "<Figure size 640x480 with 1 Axes>"
      ]
     },
     "metadata": {},
     "output_type": "display_data"
    }
   ],
   "source": [
    "sns.histplot(rfm['monetary'])\n",
    "plt.xlabel('Monetary')\n",
    "plt.show()\n"
   ]
  },
  {
   "cell_type": "markdown",
   "metadata": {},
   "source": [
    "All rfm features are log-normal and have a heavy right-skew"
   ]
  },
  {
   "cell_type": "markdown",
   "metadata": {},
   "source": [
    "## Log transformation"
   ]
  },
  {
   "cell_type": "code",
   "execution_count": null,
   "metadata": {},
   "outputs": [
    {
     "data": {
      "text/html": [
       "<div>\n",
       "<style scoped>\n",
       "    .dataframe tbody tr th:only-of-type {\n",
       "        vertical-align: middle;\n",
       "    }\n",
       "\n",
       "    .dataframe tbody tr th {\n",
       "        vertical-align: top;\n",
       "    }\n",
       "\n",
       "    .dataframe thead th {\n",
       "        text-align: right;\n",
       "    }\n",
       "</style>\n",
       "<table border=\"1\" class=\"dataframe\">\n",
       "  <thead>\n",
       "    <tr style=\"text-align: right;\">\n",
       "      <th></th>\n",
       "      <th>recency</th>\n",
       "      <th>frequency</th>\n",
       "      <th>monetary</th>\n",
       "    </tr>\n",
       "    <tr>\n",
       "      <th>from_totally_fake_account</th>\n",
       "      <th></th>\n",
       "      <th></th>\n",
       "      <th></th>\n",
       "    </tr>\n",
       "  </thead>\n",
       "  <tbody>\n",
       "    <tr>\n",
       "      <th>1000.0</th>\n",
       "      <td>1</td>\n",
       "      <td>1335</td>\n",
       "      <td>10485.46</td>\n",
       "    </tr>\n",
       "    <tr>\n",
       "      <th>1002.0</th>\n",
       "      <td>1</td>\n",
       "      <td>691</td>\n",
       "      <td>9155.67</td>\n",
       "    </tr>\n",
       "    <tr>\n",
       "      <th>1006.0</th>\n",
       "      <td>1</td>\n",
       "      <td>1553</td>\n",
       "      <td>14715.49</td>\n",
       "    </tr>\n",
       "    <tr>\n",
       "      <th>1018.0</th>\n",
       "      <td>2</td>\n",
       "      <td>687</td>\n",
       "      <td>11304.51</td>\n",
       "    </tr>\n",
       "    <tr>\n",
       "      <th>1053.0</th>\n",
       "      <td>1</td>\n",
       "      <td>1012</td>\n",
       "      <td>13139.22</td>\n",
       "    </tr>\n",
       "  </tbody>\n",
       "</table>\n",
       "</div>"
      ],
      "text/plain": [
       "                           recency  frequency  monetary\n",
       "from_totally_fake_account                              \n",
       "1000.0                           1       1335  10485.46\n",
       "1002.0                           1        691   9155.67\n",
       "1006.0                           1       1553  14715.49\n",
       "1018.0                           2        687  11304.51\n",
       "1053.0                           1       1012  13139.22"
      ]
     },
     "execution_count": 27,
     "metadata": {},
     "output_type": "execute_result"
    }
   ],
   "source": [
    "rfm_features = rfm[['recency', 'frequency', 'monetary']]\n",
    "rfm_features.head()\n"
   ]
  },
  {
   "cell_type": "code",
   "execution_count": null,
   "metadata": {},
   "outputs": [],
   "source": [
    "#create a new dataframe with the log of the rfm features\n",
    "rfm_features_log = rfm_features.copy()\n",
    "rfm_features_log['recency_log'] = np.log(rfm_features['recency'])\n",
    "rfm_features_log['frequency_log'] = np.log(rfm_features['frequency'])\n",
    "rfm_features_log['monetary_log'] = np.log(rfm_features['monetary'])\n",
    "rfm_features_log.drop(['recency', 'frequency', 'monetary'], axis=1, inplace=True)\n"
   ]
  },
  {
   "cell_type": "code",
   "execution_count": null,
   "metadata": {},
   "outputs": [
    {
     "data": {
      "image/png": "[encoded data removed]",
      "text/plain": [
       "<Figure size 640x480 with 1 Axes>"
      ]
     },
     "metadata": {},
     "output_type": "display_data"
    }
   ],
   "source": [
    "# plot the rfm features_log\n",
    "sns.histplot(rfm_features_log['recency_log'],bins=3)\n",
    "plt.xlabel('Recency')\n",
    "plt.show()\n"
   ]
  },
  {
   "cell_type": "code",
   "execution_count": null,
   "metadata": {},
   "outputs": [
    {
     "data": {
      "image/png": "[encoded data removed]",
      "text/plain": [
       "<Figure size 640x480 with 1 Axes>"
      ]
     },
     "metadata": {},
     "output_type": "display_data"
    }
   ],
   "source": [
    "sns.histplot(rfm_features_log['frequency_log'])\n",
    "plt.xlabel('Frequency')\n",
    "plt.show()"
   ]
  },
  {
   "cell_type": "code",
   "execution_count": null,
   "metadata": {},
   "outputs": [
    {
     "data": {
      "image/png": "[encoded data removed]",
      "text/plain": [
       "<Figure size 640x480 with 1 Axes>"
      ]
     },
     "metadata": {},
     "output_type": "display_data"
    }
   ],
   "source": [
    "sns.histplot(rfm_features_log['monetary_log'])\n",
    "plt.xlabel('Monetary')\n",
    "plt.show()"
   ]
  },
  {
   "cell_type": "markdown",
   "metadata": {},
   "source": [
    "# Standardising and scaling data"
   ]
  },
  {
   "cell_type": "code",
   "execution_count": null,
   "metadata": {},
   "outputs": [
    {
     "data": {
      "text/html": [
       "<div>\n",
       "<style scoped>\n",
       "    .dataframe tbody tr th:only-of-type {\n",
       "        vertical-align: middle;\n",
       "    }\n",
       "\n",
       "    .dataframe tbody tr th {\n",
       "        vertical-align: top;\n",
       "    }\n",
       "\n",
       "    .dataframe thead th {\n",
       "        text-align: right;\n",
       "    }\n",
       "</style>\n",
       "<table border=\"1\" class=\"dataframe\">\n",
       "  <thead>\n",
       "    <tr style=\"text-align: right;\">\n",
       "      <th></th>\n",
       "      <th>recency</th>\n",
       "      <th>frequency</th>\n",
       "      <th>monetary</th>\n",
       "      <th>RFM_Score</th>\n",
       "    </tr>\n",
       "  </thead>\n",
       "  <tbody>\n",
       "    <tr>\n",
       "      <th>count</th>\n",
       "      <td>8142.000000</td>\n",
       "      <td>8142.000000</td>\n",
       "      <td>8142.000000</td>\n",
       "      <td>8142.000000</td>\n",
       "    </tr>\n",
       "    <tr>\n",
       "      <th>mean</th>\n",
       "      <td>1.336895</td>\n",
       "      <td>935.337386</td>\n",
       "      <td>12944.370357</td>\n",
       "      <td>7.500000</td>\n",
       "    </tr>\n",
       "    <tr>\n",
       "      <th>std</th>\n",
       "      <td>0.729205</td>\n",
       "      <td>331.352131</td>\n",
       "      <td>2685.184598</td>\n",
       "      <td>2.402439</td>\n",
       "    </tr>\n",
       "    <tr>\n",
       "      <th>min</th>\n",
       "      <td>1.000000</td>\n",
       "      <td>342.000000</td>\n",
       "      <td>6063.340000</td>\n",
       "      <td>3.000000</td>\n",
       "    </tr>\n",
       "    <tr>\n",
       "      <th>25%</th>\n",
       "      <td>1.000000</td>\n",
       "      <td>699.000000</td>\n",
       "      <td>10980.735000</td>\n",
       "      <td>6.000000</td>\n",
       "    </tr>\n",
       "    <tr>\n",
       "      <th>50%</th>\n",
       "      <td>1.000000</td>\n",
       "      <td>818.000000</td>\n",
       "      <td>12829.960000</td>\n",
       "      <td>8.000000</td>\n",
       "    </tr>\n",
       "    <tr>\n",
       "      <th>75%</th>\n",
       "      <td>1.000000</td>\n",
       "      <td>1192.750000</td>\n",
       "      <td>14750.287500</td>\n",
       "      <td>9.000000</td>\n",
       "    </tr>\n",
       "    <tr>\n",
       "      <th>max</th>\n",
       "      <td>5.000000</td>\n",
       "      <td>2391.000000</td>\n",
       "      <td>23494.220000</td>\n",
       "      <td>12.000000</td>\n",
       "    </tr>\n",
       "  </tbody>\n",
       "</table>\n",
       "</div>"
      ],
      "text/plain": [
       "           recency    frequency      monetary    RFM_Score\n",
       "count  8142.000000  8142.000000   8142.000000  8142.000000\n",
       "mean      1.336895   935.337386  12944.370357     7.500000\n",
       "std       0.729205   331.352131   2685.184598     2.402439\n",
       "min       1.000000   342.000000   6063.340000     3.000000\n",
       "25%       1.000000   699.000000  10980.735000     6.000000\n",
       "50%       1.000000   818.000000  12829.960000     8.000000\n",
       "75%       1.000000  1192.750000  14750.287500     9.000000\n",
       "max       5.000000  2391.000000  23494.220000    12.000000"
      ]
     },
     "execution_count": 32,
     "metadata": {},
     "output_type": "execute_result"
    }
   ],
   "source": [
    "rfm.describe()"
   ]
  },
  {
   "cell_type": "markdown",
   "metadata": {},
   "source": [
    "rfm features have different means and variances"
   ]
  },
  {
   "cell_type": "code",
   "execution_count": null,
   "metadata": {},
   "outputs": [
    {
     "data": {
      "text/html": [
       "<div>\n",
       "<style scoped>\n",
       "    .dataframe tbody tr th:only-of-type {\n",
       "        vertical-align: middle;\n",
       "    }\n",
       "\n",
       "    .dataframe tbody tr th {\n",
       "        vertical-align: top;\n",
       "    }\n",
       "\n",
       "    .dataframe thead th {\n",
       "        text-align: right;\n",
       "    }\n",
       "</style>\n",
       "<table border=\"1\" class=\"dataframe\">\n",
       "  <thead>\n",
       "    <tr style=\"text-align: right;\">\n",
       "      <th></th>\n",
       "      <th>recency</th>\n",
       "      <th>frequency</th>\n",
       "      <th>monetary</th>\n",
       "    </tr>\n",
       "  </thead>\n",
       "  <tbody>\n",
       "    <tr>\n",
       "      <th>count</th>\n",
       "      <td>8142.00</td>\n",
       "      <td>8142.00</td>\n",
       "      <td>8142.00</td>\n",
       "    </tr>\n",
       "    <tr>\n",
       "      <th>mean</th>\n",
       "      <td>0.00</td>\n",
       "      <td>-0.00</td>\n",
       "      <td>0.00</td>\n",
       "    </tr>\n",
       "    <tr>\n",
       "      <th>std</th>\n",
       "      <td>1.00</td>\n",
       "      <td>1.00</td>\n",
       "      <td>1.00</td>\n",
       "    </tr>\n",
       "    <tr>\n",
       "      <th>min</th>\n",
       "      <td>-0.50</td>\n",
       "      <td>-2.78</td>\n",
       "      <td>-3.50</td>\n",
       "    </tr>\n",
       "    <tr>\n",
       "      <th>25%</th>\n",
       "      <td>-0.50</td>\n",
       "      <td>-0.68</td>\n",
       "      <td>-0.68</td>\n",
       "    </tr>\n",
       "    <tr>\n",
       "      <th>50%</th>\n",
       "      <td>-0.50</td>\n",
       "      <td>-0.22</td>\n",
       "      <td>0.06</td>\n",
       "    </tr>\n",
       "    <tr>\n",
       "      <th>75%</th>\n",
       "      <td>-0.50</td>\n",
       "      <td>0.89</td>\n",
       "      <td>0.72</td>\n",
       "    </tr>\n",
       "    <tr>\n",
       "      <th>max</th>\n",
       "      <td>3.63</td>\n",
       "      <td>2.92</td>\n",
       "      <td>2.93</td>\n",
       "    </tr>\n",
       "  </tbody>\n",
       "</table>\n",
       "</div>"
      ],
      "text/plain": [
       "       recency  frequency  monetary\n",
       "count  8142.00    8142.00   8142.00\n",
       "mean      0.00      -0.00      0.00\n",
       "std       1.00       1.00      1.00\n",
       "min      -0.50      -2.78     -3.50\n",
       "25%      -0.50      -0.68     -0.68\n",
       "50%      -0.50      -0.22      0.06\n",
       "75%      -0.50       0.89      0.72\n",
       "max       3.63       2.92      2.93"
      ]
     },
     "execution_count": 33,
     "metadata": {},
     "output_type": "execute_result"
    }
   ],
   "source": [
    "#import standard scaler\n",
    "from sklearn.preprocessing import StandardScaler\n",
    "\n",
    "#standardize the data\n",
    "scaler = StandardScaler()\n",
    "scaler.fit(rfm_features_log)\n",
    "rfm_normalized = scaler.transform(rfm_features_log)\n",
    "rfm_normalized = pd.DataFrame(rfm_normalized, index=rfm_features.index, columns=rfm_features.columns)\n",
    "rfm_normalized.describe().round(2)"
   ]
  },
  {
   "cell_type": "markdown",
   "metadata": {},
   "source": [
    "As you can see all rfm features have been scaled to unit deviation and centred on the same mean"
   ]
  },
  {
   "cell_type": "markdown",
   "metadata": {},
   "source": [
    "# K-Means Clustering"
   ]
  },
  {
   "cell_type": "code",
   "execution_count": null,
   "metadata": {},
   "outputs": [
    {
     "data": {
      "text/html": [
       "<div>\n",
       "<style scoped>\n",
       "    .dataframe tbody tr th:only-of-type {\n",
       "        vertical-align: middle;\n",
       "    }\n",
       "\n",
       "    .dataframe tbody tr th {\n",
       "        vertical-align: top;\n",
       "    }\n",
       "\n",
       "    .dataframe thead th {\n",
       "        text-align: right;\n",
       "    }\n",
       "</style>\n",
       "<table border=\"1\" class=\"dataframe\">\n",
       "  <thead>\n",
       "    <tr style=\"text-align: right;\">\n",
       "      <th></th>\n",
       "      <th>recency</th>\n",
       "      <th>frequency</th>\n",
       "      <th>monetary</th>\n",
       "    </tr>\n",
       "    <tr>\n",
       "      <th>from_totally_fake_account</th>\n",
       "      <th></th>\n",
       "      <th></th>\n",
       "      <th></th>\n",
       "    </tr>\n",
       "  </thead>\n",
       "  <tbody>\n",
       "    <tr>\n",
       "      <th>1000.0</th>\n",
       "      <td>-0.501287</td>\n",
       "      <td>1.216525</td>\n",
       "      <td>-0.896695</td>\n",
       "    </tr>\n",
       "    <tr>\n",
       "      <th>1002.0</th>\n",
       "      <td>-0.501287</td>\n",
       "      <td>-0.714062</td>\n",
       "      <td>-1.540641</td>\n",
       "    </tr>\n",
       "    <tr>\n",
       "      <th>1006.0</th>\n",
       "      <td>-0.501287</td>\n",
       "      <td>1.659948</td>\n",
       "      <td>0.712554</td>\n",
       "    </tr>\n",
       "    <tr>\n",
       "      <th>1018.0</th>\n",
       "      <td>1.276265</td>\n",
       "      <td>-0.731082</td>\n",
       "      <td>-0.539566</td>\n",
       "    </tr>\n",
       "    <tr>\n",
       "      <th>1053.0</th>\n",
       "      <td>-0.501287</td>\n",
       "      <td>0.404467</td>\n",
       "      <td>0.174577</td>\n",
       "    </tr>\n",
       "  </tbody>\n",
       "</table>\n",
       "</div>"
      ],
      "text/plain": [
       "                            recency  frequency  monetary\n",
       "from_totally_fake_account                               \n",
       "1000.0                    -0.501287   1.216525 -0.896695\n",
       "1002.0                    -0.501287  -0.714062 -1.540641\n",
       "1006.0                    -0.501287   1.659948  0.712554\n",
       "1018.0                     1.276265  -0.731082 -0.539566\n",
       "1053.0                    -0.501287   0.404467  0.174577"
      ]
     },
     "execution_count": 34,
     "metadata": {},
     "output_type": "execute_result"
    }
   ],
   "source": [
    "rfm_normalized.head()   "
   ]
  },
  {
   "cell_type": "code",
   "execution_count": null,
   "metadata": {},
   "outputs": [
    {
     "data": {
      "image/png": "[encoded data removed]",
      "text/plain": [
       "<Figure size 640x480 with 1 Axes>"
      ]
     },
     "metadata": {},
     "output_type": "display_data"
    }
   ],
   "source": [
    "#import KMeans\n",
    "from sklearn.cluster import KMeans\n",
    "\n",
    "# vary the number of clusters from 1 to 10\n",
    "wcss = []\n",
    "for i in range(1, 11):\n",
    "    kmeans = KMeans(n_clusters=i, init='k-means++', max_iter=300, n_init=10, random_state=0)\n",
    "    kmeans.fit(rfm_normalized)\n",
    "    wcss.append(kmeans.inertia_)\n",
    "    \n",
    "# plot the elbow graph\n",
    "# point plot\n",
    "plt.plot(range(1, 11), wcss, marker='o', linestyle='--')\n",
    "plt.title('Elbow Method')\n",
    "plt.xlabel('Number of clusters')\n",
    "plt.ylabel('WCSS')\n",
    "plt.show()"
   ]
  },
  {
   "cell_type": "markdown",
   "metadata": {},
   "source": [
    "4 is the best number of clusters"
   ]
  },
  {
   "cell_type": "code",
   "execution_count": null,
   "metadata": {},
   "outputs": [],
   "source": [
    "# select k clusters\n",
    "kmeans = KMeans(n_clusters=4, init='k-means++', max_iter=300, n_init=10, random_state=0)\n",
    "clusters = kmeans.fit_predict(rfm_normalized)\n"
   ]
  },
  {
   "cell_type": "markdown",
   "metadata": {},
   "source": [
    "# Analysis of clustering"
   ]
  },
  {
   "cell_type": "markdown",
   "metadata": {},
   "source": [
    "Summary statistics of the non-scaled RFM data with labelled clusters."
   ]
  },
  {
   "cell_type": "code",
   "execution_count": null,
   "metadata": {},
   "outputs": [
    {
     "data": {
      "text/html": [
       "<div>\n",
       "<style scoped>\n",
       "    .dataframe tbody tr th:only-of-type {\n",
       "        vertical-align: middle;\n",
       "    }\n",
       "\n",
       "    .dataframe tbody tr th {\n",
       "        vertical-align: top;\n",
       "    }\n",
       "\n",
       "    .dataframe thead tr th {\n",
       "        text-align: left;\n",
       "    }\n",
       "\n",
       "    .dataframe thead tr:last-of-type th {\n",
       "        text-align: right;\n",
       "    }\n",
       "</style>\n",
       "<table border=\"1\" class=\"dataframe\">\n",
       "  <thead>\n",
       "    <tr>\n",
       "      <th></th>\n",
       "      <th>recency</th>\n",
       "      <th>frequency</th>\n",
       "      <th colspan=\"2\" halign=\"left\">monetary</th>\n",
       "    </tr>\n",
       "    <tr>\n",
       "      <th></th>\n",
       "      <th>mean</th>\n",
       "      <th>mean</th>\n",
       "      <th>mean</th>\n",
       "      <th>count</th>\n",
       "    </tr>\n",
       "    <tr>\n",
       "      <th>Cluster</th>\n",
       "      <th></th>\n",
       "      <th></th>\n",
       "      <th></th>\n",
       "      <th></th>\n",
       "    </tr>\n",
       "  </thead>\n",
       "  <tbody>\n",
       "    <tr>\n",
       "      <th>0</th>\n",
       "      <td>2.56</td>\n",
       "      <td>669.89</td>\n",
       "      <td>11732.70</td>\n",
       "      <td>1701</td>\n",
       "    </tr>\n",
       "    <tr>\n",
       "      <th>1</th>\n",
       "      <td>1.03</td>\n",
       "      <td>803.24</td>\n",
       "      <td>14605.78</td>\n",
       "      <td>2038</td>\n",
       "    </tr>\n",
       "    <tr>\n",
       "      <th>2</th>\n",
       "      <td>1.00</td>\n",
       "      <td>772.05</td>\n",
       "      <td>10390.48</td>\n",
       "      <td>2037</td>\n",
       "    </tr>\n",
       "    <tr>\n",
       "      <th>3</th>\n",
       "      <td>1.01</td>\n",
       "      <td>1380.54</td>\n",
       "      <td>14583.16</td>\n",
       "      <td>2366</td>\n",
       "    </tr>\n",
       "  </tbody>\n",
       "</table>\n",
       "</div>"
      ],
      "text/plain": [
       "        recency frequency  monetary      \n",
       "           mean      mean      mean count\n",
       "Cluster                                  \n",
       "0          2.56    669.89  11732.70  1701\n",
       "1          1.03    803.24  14605.78  2038\n",
       "2          1.00    772.05  10390.48  2037\n",
       "3          1.01   1380.54  14583.16  2366"
      ]
     },
     "execution_count": 37,
     "metadata": {},
     "output_type": "execute_result"
    }
   ],
   "source": [
    "rfm_kmeans_cluster = rfm.assign(Cluster=clusters) \n",
    "\n",
    "# calculate average RFM values and size for each cluster\n",
    "rfm_kmeans_cluster.groupby('Cluster').agg({'recency': 'mean',\n",
    "                                           'frequency': 'mean',\n",
    "                                           'monetary': ['mean','count']}).round(2)\n",
    "\n"
   ]
  },
  {
   "cell_type": "markdown",
   "metadata": {},
   "source": [
    "`count` column gives the number of accounts in each cluster - total of 8142 customers."
   ]
  },
  {
   "cell_type": "markdown",
   "metadata": {},
   "source": [
    "# Snake plots"
   ]
  },
  {
   "cell_type": "markdown",
   "metadata": {},
   "source": [
    "Pivot wider, so each row represents one observations for a metric, given a specific account and cluster."
   ]
  },
  {
   "cell_type": "code",
   "execution_count": null,
   "metadata": {},
   "outputs": [],
   "source": [
    "rfm_normalized['Cluster'] = rfm_kmeans_cluster['Cluster']  \n",
    "\n",
    "# pivot wide for plotting\n",
    "rfm_melt = pd.melt(rfm_normalized.reset_index(), \n",
    "                   id_vars=['from_totally_fake_account', 'Cluster'],\n",
    "                   value_vars=['recency', 'frequency', 'monetary'],\n",
    "                   var_name='Metric', value_name='Value')\n"
   ]
  },
  {
   "cell_type": "markdown",
   "metadata": {},
   "source": [
    "Snake plots average values for each RFM metric for each cluster, using the original scaled and log transformed training data that has been labelled with KMeans assigned clusters.\n",
    "\n",
    "Some negative values due to the Standardisation."
   ]
  },
  {
   "cell_type": "code",
   "execution_count": null,
   "metadata": {},
   "outputs": [
    {
     "data": {
      "image/png": "[encoded data removed]",
      "text/plain": [
       "<Figure size 640x480 with 1 Axes>"
      ]
     },
     "metadata": {},
     "output_type": "display_data"
    }
   ],
   "source": [
    "# visualize the clusters using a snake plot\n",
    "sns.set(style='whitegrid')\n",
    "\n",
    "# 3 cluster palette\n",
    "palette4 =['r','g','b','y']\n",
    "\n",
    "plt.title('Snake plot of RFM Metrics')\n",
    "snake=sns.lineplot(x='Metric',y='Value', hue='Cluster',palette=palette4, data=rfm_melt,err_style=None)\n",
    "sns.move_legend(snake, loc=\"upper left\", bbox_to_anchor=(1, 1))\n",
    "# vertical lines for each metric\n",
    "plt.axvline(x=0, color='grey', linestyle='--',linewidth=0.9)\n",
    "plt.axvline(x=1, color='grey', linestyle='--',linewidth=0.9)\n",
    "plt.axvline(x=2, color='grey', linestyle='--',linewidth=0.9)\n",
    "plt.axhline(y=0, color='black', linestyle='--',linewidth=1)\n",
    "plt.show()\n"
   ]
  },
  {
   "cell_type": "markdown",
   "metadata": {},
   "source": [
    "# Relative importance heatmaps and snake plots"
   ]
  },
  {
   "cell_type": "code",
   "execution_count": null,
   "metadata": {},
   "outputs": [],
   "source": [
    "rfm_kmeans_cluster.tail()\n",
    "# drop every column except the cluster column and recency, frequency and monetary columns\n",
    "rfm_kmeans_cluster_rel_imp = rfm_kmeans_cluster.drop(['r_quartile', 'f_quartile', 'm_quartile', 'RFM_Segment', 'RFM_Score'], axis=1)\n",
    "\n",
    "rfm_rel_imp_calc=rfm.drop(['r_quartile', 'f_quartile', 'm_quartile', 'RFM_Segment', 'RFM_Score'], axis=1)"
   ]
  },
  {
   "cell_type": "code",
   "execution_count": null,
   "metadata": {},
   "outputs": [
    {
     "data": {
      "image/png": "[encoded data removed]",
      "text/plain": [
       "<Figure size 800x200 with 2 Axes>"
      ]
     },
     "metadata": {},
     "output_type": "display_data"
    }
   ],
   "source": [
    "\n",
    "cluster_avg = rfm_kmeans_cluster_rel_imp.groupby(['Cluster']).mean()\n",
    "population_avg = rfm_rel_imp_calc.mean()\n",
    "\n",
    "relative_imp = cluster_avg / population_avg - 1\n",
    "\n",
    "# plot the relative importance of the RFM values for each cluster\n",
    "plt.figure(figsize=(8, 2))\n",
    "plt.title('Relative importance of attributes')\n",
    "\n",
    "# green-red colour map\n",
    "#gr_cmap = sns.diverging_palette(0, 130, n=5)\n",
    "\n",
    "sns.heatmap(data=relative_imp, annot=True, fmt='.2f', cmap='viridis')\n",
    "plt.show()"
   ]
  },
  {
   "cell_type": "markdown",
   "metadata": {},
   "source": [
    "Further the relative score is from 0, the more important that property is to that particular cluster as compared to the population average."
   ]
  },
  {
   "cell_type": "code",
   "execution_count": null,
   "metadata": {},
   "outputs": [
    {
     "data": {
      "image/png": "[encoded data removed]",
      "text/plain": [
       "<Figure size 640x480 with 1 Axes>"
      ]
     },
     "metadata": {},
     "output_type": "display_data"
    }
   ],
   "source": [
    "# snake plot of average RFM scores against population average\n",
    "relative_imp = relative_imp.reset_index()\n",
    "relative_imp_melt = pd.melt(relative_imp, id_vars=['Cluster'], value_vars=['recency', 'frequency', 'monetary'], var_name='Metric', value_name='Value')\n",
    "\n",
    "plt.title('Snake plot of average RFM scores against population average')\n",
    "snake=sns.lineplot(x='Metric',y='Value', hue='Cluster',palette=palette4, data=relative_imp_melt,err_style=None)\n",
    "sns.move_legend(snake, loc=\"upper left\", bbox_to_anchor=(1, 1))\n",
    "plt.axvline(x=0, color='grey', linestyle='--',linewidth=0.9)\n",
    "plt.axvline(x=1, color='grey', linestyle='--',linewidth=0.9)\n",
    "plt.axvline(x=2, color='grey', linestyle='--',linewidth=0.9)\n",
    "plt.axhline(y=0, color='black', linestyle='--',linewidth=1)\n",
    "plt.show()\n"
   ]
  },
  {
   "cell_type": "markdown",
   "metadata": {},
   "source": [
    "# Spending behaviours for each cluster\n"
   ]
  },
  {
   "cell_type": "code",
   "execution_count": null,
   "metadata": {},
   "outputs": [
    {
     "data": {
      "text/html": [
       "<div>\n",
       "<style scoped>\n",
       "    .dataframe tbody tr th:only-of-type {\n",
       "        vertical-align: middle;\n",
       "    }\n",
       "\n",
       "    .dataframe tbody tr th {\n",
       "        vertical-align: top;\n",
       "    }\n",
       "\n",
       "    .dataframe thead th {\n",
       "        text-align: right;\n",
       "    }\n",
       "</style>\n",
       "<table border=\"1\" class=\"dataframe\">\n",
       "  <thead>\n",
       "    <tr style=\"text-align: right;\">\n",
       "      <th></th>\n",
       "      <th>from_totally_fake_account</th>\n",
       "      <th>Cluster</th>\n",
       "      <th>Metric</th>\n",
       "      <th>Value</th>\n",
       "    </tr>\n",
       "  </thead>\n",
       "  <tbody>\n",
       "    <tr>\n",
       "      <th>0</th>\n",
       "      <td>1000.0</td>\n",
       "      <td>3</td>\n",
       "      <td>recency</td>\n",
       "      <td>-0.501287</td>\n",
       "    </tr>\n",
       "    <tr>\n",
       "      <th>1</th>\n",
       "      <td>1002.0</td>\n",
       "      <td>2</td>\n",
       "      <td>recency</td>\n",
       "      <td>-0.501287</td>\n",
       "    </tr>\n",
       "    <tr>\n",
       "      <th>2</th>\n",
       "      <td>1006.0</td>\n",
       "      <td>3</td>\n",
       "      <td>recency</td>\n",
       "      <td>-0.501287</td>\n",
       "    </tr>\n",
       "    <tr>\n",
       "      <th>3</th>\n",
       "      <td>1018.0</td>\n",
       "      <td>0</td>\n",
       "      <td>recency</td>\n",
       "      <td>1.276265</td>\n",
       "    </tr>\n",
       "    <tr>\n",
       "      <th>4</th>\n",
       "      <td>1053.0</td>\n",
       "      <td>1</td>\n",
       "      <td>recency</td>\n",
       "      <td>-0.501287</td>\n",
       "    </tr>\n",
       "    <tr>\n",
       "      <th>5</th>\n",
       "      <td>1059.0</td>\n",
       "      <td>0</td>\n",
       "      <td>recency</td>\n",
       "      <td>1.276265</td>\n",
       "    </tr>\n",
       "    <tr>\n",
       "      <th>6</th>\n",
       "      <td>1071.0</td>\n",
       "      <td>2</td>\n",
       "      <td>recency</td>\n",
       "      <td>-0.501287</td>\n",
       "    </tr>\n",
       "    <tr>\n",
       "      <th>7</th>\n",
       "      <td>1078.0</td>\n",
       "      <td>1</td>\n",
       "      <td>recency</td>\n",
       "      <td>-0.501287</td>\n",
       "    </tr>\n",
       "    <tr>\n",
       "      <th>8</th>\n",
       "      <td>1086.0</td>\n",
       "      <td>3</td>\n",
       "      <td>recency</td>\n",
       "      <td>-0.501287</td>\n",
       "    </tr>\n",
       "    <tr>\n",
       "      <th>9</th>\n",
       "      <td>1087.0</td>\n",
       "      <td>2</td>\n",
       "      <td>recency</td>\n",
       "      <td>-0.501287</td>\n",
       "    </tr>\n",
       "  </tbody>\n",
       "</table>\n",
       "</div>"
      ],
      "text/plain": [
       "   from_totally_fake_account  Cluster   Metric     Value\n",
       "0                     1000.0        3  recency -0.501287\n",
       "1                     1002.0        2  recency -0.501287\n",
       "2                     1006.0        3  recency -0.501287\n",
       "3                     1018.0        0  recency  1.276265\n",
       "4                     1053.0        1  recency -0.501287\n",
       "5                     1059.0        0  recency  1.276265\n",
       "6                     1071.0        2  recency -0.501287\n",
       "7                     1078.0        1  recency -0.501287\n",
       "8                     1086.0        3  recency -0.501287\n",
       "9                     1087.0        2  recency -0.501287"
      ]
     },
     "execution_count": 43,
     "metadata": {},
     "output_type": "execute_result"
    }
   ],
   "source": [
    "rfm_melt['from_totally_fake_account'].nunique()\n",
    "rfm_melt.head(10)"
   ]
  },
  {
   "cell_type": "code",
   "execution_count": null,
   "metadata": {},
   "outputs": [],
   "source": [
    "# join the rfm_melt dataframe with the original bank dataframe on the 'from_totally_fake_account' column\n",
    "rfm_merged = bank.merge(rfm_melt, on='from_totally_fake_account')\n"
   ]
  },
  {
   "cell_type": "code",
   "execution_count": null,
   "metadata": {},
   "outputs": [
    {
     "name": "stdout",
     "output_type": "stream",
     "text": [
      "(22846551, 8)\n"
     ]
    },
    {
     "data": {
      "text/html": [
       "<div>\n",
       "<style scoped>\n",
       "    .dataframe tbody tr th:only-of-type {\n",
       "        vertical-align: middle;\n",
       "    }\n",
       "\n",
       "    .dataframe tbody tr th {\n",
       "        vertical-align: top;\n",
       "    }\n",
       "\n",
       "    .dataframe thead th {\n",
       "        text-align: right;\n",
       "    }\n",
       "</style>\n",
       "<table border=\"1\" class=\"dataframe\">\n",
       "  <thead>\n",
       "    <tr style=\"text-align: right;\">\n",
       "      <th></th>\n",
       "      <th>from_totally_fake_account</th>\n",
       "      <th>monopoly_money_amount</th>\n",
       "      <th>to_randomly_generated_account</th>\n",
       "      <th>not_happened_yet_date</th>\n",
       "      <th>transaction_freq_id</th>\n",
       "      <th>Cluster</th>\n",
       "      <th>Metric</th>\n",
       "      <th>Value</th>\n",
       "    </tr>\n",
       "  </thead>\n",
       "  <tbody>\n",
       "    <tr>\n",
       "      <th>0</th>\n",
       "      <td>100214.0</td>\n",
       "      <td>74.99</td>\n",
       "      <td>WINE_CELLAR</td>\n",
       "      <td>2025-12-09</td>\n",
       "      <td>100219.0</td>\n",
       "      <td>2</td>\n",
       "      <td>recency</td>\n",
       "      <td>-0.501287</td>\n",
       "    </tr>\n",
       "    <tr>\n",
       "      <th>1</th>\n",
       "      <td>100214.0</td>\n",
       "      <td>74.99</td>\n",
       "      <td>WINE_CELLAR</td>\n",
       "      <td>2025-12-09</td>\n",
       "      <td>100219.0</td>\n",
       "      <td>2</td>\n",
       "      <td>frequency</td>\n",
       "      <td>-0.100051</td>\n",
       "    </tr>\n",
       "    <tr>\n",
       "      <th>2</th>\n",
       "      <td>100214.0</td>\n",
       "      <td>74.99</td>\n",
       "      <td>WINE_CELLAR</td>\n",
       "      <td>2025-12-09</td>\n",
       "      <td>100219.0</td>\n",
       "      <td>2</td>\n",
       "      <td>monetary</td>\n",
       "      <td>-0.294396</td>\n",
       "    </tr>\n",
       "    <tr>\n",
       "      <th>3</th>\n",
       "      <td>100214.0</td>\n",
       "      <td>49.99</td>\n",
       "      <td>WINE_CELLAR</td>\n",
       "      <td>2025-03-11</td>\n",
       "      <td>100219.0</td>\n",
       "      <td>2</td>\n",
       "      <td>recency</td>\n",
       "      <td>-0.501287</td>\n",
       "    </tr>\n",
       "    <tr>\n",
       "      <th>4</th>\n",
       "      <td>100214.0</td>\n",
       "      <td>49.99</td>\n",
       "      <td>WINE_CELLAR</td>\n",
       "      <td>2025-03-11</td>\n",
       "      <td>100219.0</td>\n",
       "      <td>2</td>\n",
       "      <td>frequency</td>\n",
       "      <td>-0.100051</td>\n",
       "    </tr>\n",
       "  </tbody>\n",
       "</table>\n",
       "</div>"
      ],
      "text/plain": [
       "   from_totally_fake_account  monopoly_money_amount  \\\n",
       "0                   100214.0                  74.99   \n",
       "1                   100214.0                  74.99   \n",
       "2                   100214.0                  74.99   \n",
       "3                   100214.0                  49.99   \n",
       "4                   100214.0                  49.99   \n",
       "\n",
       "  to_randomly_generated_account not_happened_yet_date  transaction_freq_id  \\\n",
       "0                   WINE_CELLAR            2025-12-09             100219.0   \n",
       "1                   WINE_CELLAR            2025-12-09             100219.0   \n",
       "2                   WINE_CELLAR            2025-12-09             100219.0   \n",
       "3                   WINE_CELLAR            2025-03-11             100219.0   \n",
       "4                   WINE_CELLAR            2025-03-11             100219.0   \n",
       "\n",
       "   Cluster     Metric     Value  \n",
       "0        2    recency -0.501287  \n",
       "1        2  frequency -0.100051  \n",
       "2        2   monetary -0.294396  \n",
       "3        2    recency -0.501287  \n",
       "4        2  frequency -0.100051  "
      ]
     },
     "execution_count": 49,
     "metadata": {},
     "output_type": "execute_result"
    }
   ],
   "source": [
    "# print number of rows in rfm_merged - many more as we have multiple metrics for each account\n",
    "print(rfm_merged.shape)\n",
    "\n",
    "rfm_merged.head()"
   ]
  },
  {
   "cell_type": "code",
   "execution_count": null,
   "metadata": {},
   "outputs": [],
   "source": [
    "# regex search patterns\n",
    "val_replace_cafe = ['coffee', 'tea', 'cafe']\n",
    "val_replace_book_store = ['book', 'book store', 'bookshop']  \n",
    "val_replace_alcohol = ['WINE_CELLAR', 'alcohol', 'liquor','whiskey']\n",
    "val_replace_pub = ['bar','pub','LOCAL_WATERING_HOLE']\n",
    "val_replace_restaurant = ['restaurant','SEAFOOD_RESAURANT' , 'steak house', 'KEBAB_SHOP', 'SANDWICH_SHOP', 'roasterie','lunch']\n",
    "val_replace_entertainment = ['cinema','streaming']\n",
    "val_replace_home = ['DIY', 'home', 'COOKSHOP']\n",
    "val_replace_supermarket = ['supermarket']\n",
    "val_replace_green_grocer = ['GREENGROCER']\n",
    "val_replace_clothing = ['clothing', 'fashion', 'clothes', 'ACCESSORY_SHOP']\n",
    "val_replace_gym = ['gym']\n",
    "val_replace_takeaway = ['takeaway']\n",
    "val_replace_sports_store = ['sport','sportsware','running','trainer','FASHIONABLE_SPORTSWARE_SHOP']\n",
    "val_replace_children = ['child','toy', 'kids', 'CHILDRENDS_SHOP']\n",
    "val_replace_pets = ['pet', 'PET_TOY_SHOP']\n",
    "val_replace_tech_store = ['tech','electronics']\n",
    "val_replace_butcher = ['BUTCHER', 'TURKEY_FARM']\n",
    "val_replace_game = ['game', 'DVD']\n",
    "val_replace_jeweller = ['JEWLLERY_SHOP']\n",
    "\n",
    "# replacement group categories\n",
    "merchant_names = ['Cafe', 'Book Store','Alcohol', 'Pub', 'Restaurant', 'Entertainment', 'Home',\n",
    "                  'Supermarket', 'Green Grocer', 'Clothing', 'Gym', 'Takeaway', 'Sports Store', 'Children','Pets', 'Tech Store', 'Butcher', 'Game', 'Jewellery']\n",
    "\n"
   ]
  },
  {
   "cell_type": "code",
   "execution_count": null,
   "metadata": {},
   "outputs": [],
   "source": [
    "grouping_conditions = [\n",
    "    \n",
    "    rfm_merged['to_randomly_generated_account'].str.contains('|'.join(val_replace_cafe), case=False, regex=True),\n",
    "    rfm_merged['to_randomly_generated_account'].str.contains('|'.join(val_replace_book_store), case=False, regex=True),\n",
    "    rfm_merged['to_randomly_generated_account'].str.contains('|'.join(val_replace_alcohol), case=False, regex=True),\n",
    "    rfm_merged['to_randomly_generated_account'].str.contains('|'.join(val_replace_pub), case=False, regex=True),\n",
    "    rfm_merged['to_randomly_generated_account'].str.contains('|'.join(val_replace_restaurant), case=False, regex=True),\n",
    "    rfm_merged['to_randomly_generated_account'].str.contains('|'.join(val_replace_entertainment), case=False, regex=True),\n",
    "    rfm_merged['to_randomly_generated_account'].str.contains('|'.join(val_replace_home), case=False, regex=True),\n",
    "    rfm_merged['to_randomly_generated_account'].str.contains('|'.join(val_replace_supermarket), case=False, regex=True),\n",
    "    rfm_merged['to_randomly_generated_account'].str.contains('|'.join(val_replace_green_grocer), case=False, regex=True),\n",
    "    rfm_merged['to_randomly_generated_account'].str.contains('|'.join(val_replace_clothing), case=False, regex=True),\n",
    "    rfm_merged['to_randomly_generated_account'].str.contains('|'.join(val_replace_gym), case=False, regex=True),\n",
    "    rfm_merged['to_randomly_generated_account'].str.contains('|'.join(val_replace_takeaway), case=False, regex=True),\n",
    "    rfm_merged['to_randomly_generated_account'].str.contains('|'.join(val_replace_sports_store), case=False, regex=True),\n",
    "    rfm_merged['to_randomly_generated_account'].str.contains('|'.join(val_replace_children), case=False, regex=True),\n",
    "    rfm_merged['to_randomly_generated_account'].str.contains('|'.join(val_replace_pets), case=False, regex=True),\n",
    "    rfm_merged['to_randomly_generated_account'].str.contains('|'.join(val_replace_tech_store), case=False, regex=True),\n",
    "    rfm_merged['to_randomly_generated_account'].str.contains('|'.join(val_replace_butcher), case=False, regex=True),\n",
    "    rfm_merged['to_randomly_generated_account'].str.contains('|'.join(val_replace_game), case=False, regex=True),\n",
    "    rfm_merged['to_randomly_generated_account'].str.contains('|'.join(val_replace_jeweller), case=False, regex=True)]\n"
   ]
  },
  {
   "cell_type": "code",
   "execution_count": null,
   "metadata": {},
   "outputs": [],
   "source": [
    "# assign new merchant categories\n",
    "rfm_merged['business_name'] = np.select(grouping_conditions, merchant_names, default='')"
   ]
  },
  {
   "cell_type": "markdown",
   "metadata": {},
   "source": [
    "#### Cluster 0 summary stats"
   ]
  },
  {
   "cell_type": "code",
   "execution_count": null,
   "metadata": {},
   "outputs": [],
   "source": [
    "# filter rfm_merged for 'Cluster' == 0 and save to rfm_merged_cluster_0\n",
    "rfm_merged_cluster_0 = rfm_merged[rfm_merged['Cluster'] == 0]"
   ]
  },
  {
   "cell_type": "code",
   "execution_count": null,
   "metadata": {},
   "outputs": [
    {
     "ename": "NameError",
     "evalue": "name 'rfm_merged_cluster_0' is not defined",
     "output_type": "error",
     "traceback": [
      "\u001b[1;31m---------------------------------------------------------------------------\u001b[0m",
      "\u001b[1;31mNameError\u001b[0m                                 Traceback (most recent call last)",
      "Cell \u001b[1;32mIn[3], line 1\u001b[0m\n\u001b[1;32m----> 1\u001b[0m mean_spend_c0 \u001b[38;5;241m=\u001b[39m \u001b[43mrfm_merged_cluster_0\u001b[49m\u001b[38;5;241m.\u001b[39mgroupby(\u001b[38;5;124m'\u001b[39m\u001b[38;5;124mbusiness_name\u001b[39m\u001b[38;5;124m'\u001b[39m)\u001b[38;5;241m.\u001b[39magg({\u001b[38;5;124m'\u001b[39m\u001b[38;5;124mmonopoly_money_amount\u001b[39m\u001b[38;5;124m'\u001b[39m:\u001b[38;5;124m'\u001b[39m\u001b[38;5;124mmean\u001b[39m\u001b[38;5;124m'\u001b[39m})\u001b[38;5;241m.\u001b[39mreset_index()\n\u001b[0;32m      3\u001b[0m \u001b[38;5;66;03m# rename 'monopoly_money_amount' column to 'average_spend'\u001b[39;00m\n\u001b[0;32m      4\u001b[0m mean_spend_c0\u001b[38;5;241m.\u001b[39mrename(columns\u001b[38;5;241m=\u001b[39m{\u001b[38;5;124m'\u001b[39m\u001b[38;5;124mmonopoly_money_amount\u001b[39m\u001b[38;5;124m'\u001b[39m:\u001b[38;5;124m'\u001b[39m\u001b[38;5;124mmean_spend\u001b[39m\u001b[38;5;124m'\u001b[39m}, inplace\u001b[38;5;241m=\u001b[39m\u001b[38;5;28;01mTrue\u001b[39;00m)\n",
      "\u001b[1;31mNameError\u001b[0m: name 'rfm_merged_cluster_0' is not defined"
     ]
    }
   ],
   "source": [
    "mean_spend_c0 = rfm_merged_cluster_0.groupby('business_name').agg({'monopoly_money_amount':'mean'}).reset_index()\n",
    "\n",
    "# rename 'monopoly_money_amount' column to 'average_spend'\n",
    "mean_spend_c0.rename(columns={'monopoly_money_amount':'mean_spend'}, inplace=True)\n",
    "mean_spend_c0"
   ]
  },
  {
   "cell_type": "markdown",
   "metadata": {},
   "source": [
    "#### Cluster 1 summary stats"
   ]
  },
  {
   "cell_type": "code",
   "execution_count": null,
   "metadata": {},
   "outputs": [],
   "source": [
    "# filter rfm_merged for 'Cluster' == 0 and save to rfm_merged_cluster_1\n",
    "rfm_merged_cluster_1 = rfm_merged[rfm_merged['Cluster'] == 1]"
   ]
  },
  {
   "cell_type": "code",
   "execution_count": null,
   "metadata": {},
   "outputs": [
    {
     "data": {
      "text/html": [
       "<div>\n",
       "<style scoped>\n",
       "    .dataframe tbody tr th:only-of-type {\n",
       "        vertical-align: middle;\n",
       "    }\n",
       "\n",
       "    .dataframe tbody tr th {\n",
       "        vertical-align: top;\n",
       "    }\n",
       "\n",
       "    .dataframe thead th {\n",
       "        text-align: right;\n",
       "    }\n",
       "</style>\n",
       "<table border=\"1\" class=\"dataframe\">\n",
       "  <thead>\n",
       "    <tr style=\"text-align: right;\">\n",
       "      <th></th>\n",
       "      <th>business_name</th>\n",
       "      <th>mean_spend</th>\n",
       "    </tr>\n",
       "  </thead>\n",
       "  <tbody>\n",
       "    <tr>\n",
       "      <th>0</th>\n",
       "      <td></td>\n",
       "      <td>79.465358</td>\n",
       "    </tr>\n",
       "    <tr>\n",
       "      <th>1</th>\n",
       "      <td>Alcohol</td>\n",
       "      <td>14.054185</td>\n",
       "    </tr>\n",
       "    <tr>\n",
       "      <th>2</th>\n",
       "      <td>Book Store</td>\n",
       "      <td>11.806208</td>\n",
       "    </tr>\n",
       "    <tr>\n",
       "      <th>3</th>\n",
       "      <td>Butcher</td>\n",
       "      <td>22.806832</td>\n",
       "    </tr>\n",
       "    <tr>\n",
       "      <th>4</th>\n",
       "      <td>Cafe</td>\n",
       "      <td>2.840035</td>\n",
       "    </tr>\n",
       "    <tr>\n",
       "      <th>5</th>\n",
       "      <td>Children</td>\n",
       "      <td>51.127903</td>\n",
       "    </tr>\n",
       "    <tr>\n",
       "      <th>6</th>\n",
       "      <td>Clothing</td>\n",
       "      <td>98.605481</td>\n",
       "    </tr>\n",
       "    <tr>\n",
       "      <th>7</th>\n",
       "      <td>Entertainment</td>\n",
       "      <td>7.354840</td>\n",
       "    </tr>\n",
       "    <tr>\n",
       "      <th>8</th>\n",
       "      <td>Game</td>\n",
       "      <td>18.726665</td>\n",
       "    </tr>\n",
       "    <tr>\n",
       "      <th>9</th>\n",
       "      <td>Green Grocer</td>\n",
       "      <td>21.677384</td>\n",
       "    </tr>\n",
       "    <tr>\n",
       "      <th>10</th>\n",
       "      <td>Gym</td>\n",
       "      <td>20.000000</td>\n",
       "    </tr>\n",
       "    <tr>\n",
       "      <th>11</th>\n",
       "      <td>Home</td>\n",
       "      <td>31.520265</td>\n",
       "    </tr>\n",
       "    <tr>\n",
       "      <th>12</th>\n",
       "      <td>Jewellery</td>\n",
       "      <td>22.373396</td>\n",
       "    </tr>\n",
       "    <tr>\n",
       "      <th>13</th>\n",
       "      <td>Pets</td>\n",
       "      <td>20.328958</td>\n",
       "    </tr>\n",
       "    <tr>\n",
       "      <th>14</th>\n",
       "      <td>Pub</td>\n",
       "      <td>12.514486</td>\n",
       "    </tr>\n",
       "    <tr>\n",
       "      <th>15</th>\n",
       "      <td>Restaurant</td>\n",
       "      <td>11.506621</td>\n",
       "    </tr>\n",
       "    <tr>\n",
       "      <th>16</th>\n",
       "      <td>Sports Store</td>\n",
       "      <td>74.840307</td>\n",
       "    </tr>\n",
       "    <tr>\n",
       "      <th>17</th>\n",
       "      <td>Supermarket</td>\n",
       "      <td>75.879685</td>\n",
       "    </tr>\n",
       "    <tr>\n",
       "      <th>18</th>\n",
       "      <td>Takeaway</td>\n",
       "      <td>35.243472</td>\n",
       "    </tr>\n",
       "    <tr>\n",
       "      <th>19</th>\n",
       "      <td>Tech Store</td>\n",
       "      <td>163.836936</td>\n",
       "    </tr>\n",
       "  </tbody>\n",
       "</table>\n",
       "</div>"
      ],
      "text/plain": [
       "    business_name  mean_spend\n",
       "0                   79.465358\n",
       "1         Alcohol   14.054185\n",
       "2      Book Store   11.806208\n",
       "3         Butcher   22.806832\n",
       "4            Cafe    2.840035\n",
       "5        Children   51.127903\n",
       "6        Clothing   98.605481\n",
       "7   Entertainment    7.354840\n",
       "8            Game   18.726665\n",
       "9    Green Grocer   21.677384\n",
       "10            Gym   20.000000\n",
       "11           Home   31.520265\n",
       "12      Jewellery   22.373396\n",
       "13           Pets   20.328958\n",
       "14            Pub   12.514486\n",
       "15     Restaurant   11.506621\n",
       "16   Sports Store   74.840307\n",
       "17    Supermarket   75.879685\n",
       "18       Takeaway   35.243472\n",
       "19     Tech Store  163.836936"
      ]
     },
     "execution_count": 69,
     "metadata": {},
     "output_type": "execute_result"
    }
   ],
   "source": [
    "mean_spend_c1 = rfm_merged_cluster_1.groupby('business_name').agg({'monopoly_money_amount':'mean'}).reset_index()\n",
    "\n",
    "# rename 'monopoly_money_amount' column to 'average_spend'\n",
    "mean_spend_c1.rename(columns={'monopoly_money_amount':'mean_spend'}, inplace=True)\n",
    "mean_spend_c1"
   ]
  },
  {
   "cell_type": "markdown",
   "metadata": {},
   "source": [
    "#### Cluster 2 summary stats"
   ]
  },
  {
   "cell_type": "code",
   "execution_count": null,
   "metadata": {},
   "outputs": [],
   "source": [
    "# filter rfm_merged for 'Cluster' == 0 and save to rfm_merged_cluster_0\n",
    "rfm_merged_cluster_2 = rfm_merged[rfm_merged['Cluster'] == 0]"
   ]
  },
  {
   "cell_type": "code",
   "execution_count": null,
   "metadata": {},
   "outputs": [
    {
     "data": {
      "text/html": [
       "<div>\n",
       "<style scoped>\n",
       "    .dataframe tbody tr th:only-of-type {\n",
       "        vertical-align: middle;\n",
       "    }\n",
       "\n",
       "    .dataframe tbody tr th {\n",
       "        vertical-align: top;\n",
       "    }\n",
       "\n",
       "    .dataframe thead th {\n",
       "        text-align: right;\n",
       "    }\n",
       "</style>\n",
       "<table border=\"1\" class=\"dataframe\">\n",
       "  <thead>\n",
       "    <tr style=\"text-align: right;\">\n",
       "      <th></th>\n",
       "      <th>business_name</th>\n",
       "      <th>mean_spend</th>\n",
       "    </tr>\n",
       "  </thead>\n",
       "  <tbody>\n",
       "    <tr>\n",
       "      <th>0</th>\n",
       "      <td></td>\n",
       "      <td>70.333323</td>\n",
       "    </tr>\n",
       "    <tr>\n",
       "      <th>1</th>\n",
       "      <td>Alcohol</td>\n",
       "      <td>13.821160</td>\n",
       "    </tr>\n",
       "    <tr>\n",
       "      <th>2</th>\n",
       "      <td>Book Store</td>\n",
       "      <td>11.731131</td>\n",
       "    </tr>\n",
       "    <tr>\n",
       "      <th>3</th>\n",
       "      <td>Butcher</td>\n",
       "      <td>22.555051</td>\n",
       "    </tr>\n",
       "    <tr>\n",
       "      <th>4</th>\n",
       "      <td>Cafe</td>\n",
       "      <td>2.855711</td>\n",
       "    </tr>\n",
       "    <tr>\n",
       "      <th>5</th>\n",
       "      <td>Children</td>\n",
       "      <td>49.242037</td>\n",
       "    </tr>\n",
       "    <tr>\n",
       "      <th>6</th>\n",
       "      <td>Clothing</td>\n",
       "      <td>94.829322</td>\n",
       "    </tr>\n",
       "    <tr>\n",
       "      <th>7</th>\n",
       "      <td>Entertainment</td>\n",
       "      <td>7.349319</td>\n",
       "    </tr>\n",
       "    <tr>\n",
       "      <th>8</th>\n",
       "      <td>Game</td>\n",
       "      <td>19.111521</td>\n",
       "    </tr>\n",
       "    <tr>\n",
       "      <th>9</th>\n",
       "      <td>Green Grocer</td>\n",
       "      <td>21.751710</td>\n",
       "    </tr>\n",
       "    <tr>\n",
       "      <th>10</th>\n",
       "      <td>Gym</td>\n",
       "      <td>20.000000</td>\n",
       "    </tr>\n",
       "    <tr>\n",
       "      <th>11</th>\n",
       "      <td>Home</td>\n",
       "      <td>32.054455</td>\n",
       "    </tr>\n",
       "    <tr>\n",
       "      <th>12</th>\n",
       "      <td>Jewellery</td>\n",
       "      <td>21.793961</td>\n",
       "    </tr>\n",
       "    <tr>\n",
       "      <th>13</th>\n",
       "      <td>Pets</td>\n",
       "      <td>19.829925</td>\n",
       "    </tr>\n",
       "    <tr>\n",
       "      <th>14</th>\n",
       "      <td>Pub</td>\n",
       "      <td>12.239397</td>\n",
       "    </tr>\n",
       "    <tr>\n",
       "      <th>15</th>\n",
       "      <td>Restaurant</td>\n",
       "      <td>19.230526</td>\n",
       "    </tr>\n",
       "    <tr>\n",
       "      <th>16</th>\n",
       "      <td>Sports Store</td>\n",
       "      <td>75.111878</td>\n",
       "    </tr>\n",
       "    <tr>\n",
       "      <th>17</th>\n",
       "      <td>Supermarket</td>\n",
       "      <td>70.142751</td>\n",
       "    </tr>\n",
       "    <tr>\n",
       "      <th>18</th>\n",
       "      <td>Takeaway</td>\n",
       "      <td>35.000309</td>\n",
       "    </tr>\n",
       "    <tr>\n",
       "      <th>19</th>\n",
       "      <td>Tech Store</td>\n",
       "      <td>163.244369</td>\n",
       "    </tr>\n",
       "  </tbody>\n",
       "</table>\n",
       "</div>"
      ],
      "text/plain": [
       "    business_name  mean_spend\n",
       "0                   70.333323\n",
       "1         Alcohol   13.821160\n",
       "2      Book Store   11.731131\n",
       "3         Butcher   22.555051\n",
       "4            Cafe    2.855711\n",
       "5        Children   49.242037\n",
       "6        Clothing   94.829322\n",
       "7   Entertainment    7.349319\n",
       "8            Game   19.111521\n",
       "9    Green Grocer   21.751710\n",
       "10            Gym   20.000000\n",
       "11           Home   32.054455\n",
       "12      Jewellery   21.793961\n",
       "13           Pets   19.829925\n",
       "14            Pub   12.239397\n",
       "15     Restaurant   19.230526\n",
       "16   Sports Store   75.111878\n",
       "17    Supermarket   70.142751\n",
       "18       Takeaway   35.000309\n",
       "19     Tech Store  163.244369"
      ]
     },
     "execution_count": 68,
     "metadata": {},
     "output_type": "execute_result"
    }
   ],
   "source": [
    "mean_spend_c2 = rfm_merged_cluster_2.groupby('business_name').agg({'monopoly_money_amount':'mean'}).reset_index()\n",
    "\n",
    "# rename 'monopoly_money_amount' column to 'average_spend'\n",
    "mean_spend_c2.rename(columns={'monopoly_money_amount':'mean_spend'}, inplace=True) \n",
    "mean_spend_c2"
   ]
  },
  {
   "cell_type": "markdown",
   "metadata": {},
   "source": [
    "#### Cluster 3 summary stats"
   ]
  },
  {
   "cell_type": "code",
   "execution_count": null,
   "metadata": {},
   "outputs": [],
   "source": [
    "# filter rfm_merged for 'Cluster' == 0 and save to rfm_merged_cluster_0\n",
    "rfm_merged_cluster_3 = rfm_merged[rfm_merged['Cluster'] == 3]"
   ]
  },
  {
   "cell_type": "code",
   "execution_count": null,
   "metadata": {},
   "outputs": [
    {
     "data": {
      "text/html": [
       "<div>\n",
       "<style scoped>\n",
       "    .dataframe tbody tr th:only-of-type {\n",
       "        vertical-align: middle;\n",
       "    }\n",
       "\n",
       "    .dataframe tbody tr th {\n",
       "        vertical-align: top;\n",
       "    }\n",
       "\n",
       "    .dataframe thead th {\n",
       "        text-align: right;\n",
       "    }\n",
       "</style>\n",
       "<table border=\"1\" class=\"dataframe\">\n",
       "  <thead>\n",
       "    <tr style=\"text-align: right;\">\n",
       "      <th></th>\n",
       "      <th>business_name</th>\n",
       "      <th>mean_spend</th>\n",
       "    </tr>\n",
       "  </thead>\n",
       "  <tbody>\n",
       "    <tr>\n",
       "      <th>0</th>\n",
       "      <td></td>\n",
       "      <td>72.994456</td>\n",
       "    </tr>\n",
       "    <tr>\n",
       "      <th>1</th>\n",
       "      <td>Alcohol</td>\n",
       "      <td>13.873581</td>\n",
       "    </tr>\n",
       "    <tr>\n",
       "      <th>2</th>\n",
       "      <td>Book Store</td>\n",
       "      <td>11.739204</td>\n",
       "    </tr>\n",
       "    <tr>\n",
       "      <th>3</th>\n",
       "      <td>Butcher</td>\n",
       "      <td>22.671451</td>\n",
       "    </tr>\n",
       "    <tr>\n",
       "      <th>4</th>\n",
       "      <td>Cafe</td>\n",
       "      <td>2.557353</td>\n",
       "    </tr>\n",
       "    <tr>\n",
       "      <th>5</th>\n",
       "      <td>Children</td>\n",
       "      <td>49.949492</td>\n",
       "    </tr>\n",
       "    <tr>\n",
       "      <th>6</th>\n",
       "      <td>Clothing</td>\n",
       "      <td>94.323919</td>\n",
       "    </tr>\n",
       "    <tr>\n",
       "      <th>7</th>\n",
       "      <td>Entertainment</td>\n",
       "      <td>7.349229</td>\n",
       "    </tr>\n",
       "    <tr>\n",
       "      <th>8</th>\n",
       "      <td>Game</td>\n",
       "      <td>18.405124</td>\n",
       "    </tr>\n",
       "    <tr>\n",
       "      <th>9</th>\n",
       "      <td>Green Grocer</td>\n",
       "      <td>21.898616</td>\n",
       "    </tr>\n",
       "    <tr>\n",
       "      <th>10</th>\n",
       "      <td>Gym</td>\n",
       "      <td>20.000000</td>\n",
       "    </tr>\n",
       "    <tr>\n",
       "      <th>11</th>\n",
       "      <td>Home</td>\n",
       "      <td>31.173352</td>\n",
       "    </tr>\n",
       "    <tr>\n",
       "      <th>12</th>\n",
       "      <td>Jewellery</td>\n",
       "      <td>21.587744</td>\n",
       "    </tr>\n",
       "    <tr>\n",
       "      <th>13</th>\n",
       "      <td>Pets</td>\n",
       "      <td>19.725017</td>\n",
       "    </tr>\n",
       "    <tr>\n",
       "      <th>14</th>\n",
       "      <td>Pub</td>\n",
       "      <td>11.758235</td>\n",
       "    </tr>\n",
       "    <tr>\n",
       "      <th>15</th>\n",
       "      <td>Restaurant</td>\n",
       "      <td>9.220078</td>\n",
       "    </tr>\n",
       "    <tr>\n",
       "      <th>16</th>\n",
       "      <td>Sports Store</td>\n",
       "      <td>74.253279</td>\n",
       "    </tr>\n",
       "    <tr>\n",
       "      <th>17</th>\n",
       "      <td>Supermarket</td>\n",
       "      <td>66.537561</td>\n",
       "    </tr>\n",
       "    <tr>\n",
       "      <th>18</th>\n",
       "      <td>Takeaway</td>\n",
       "      <td>35.077460</td>\n",
       "    </tr>\n",
       "    <tr>\n",
       "      <th>19</th>\n",
       "      <td>Tech Store</td>\n",
       "      <td>166.709831</td>\n",
       "    </tr>\n",
       "  </tbody>\n",
       "</table>\n",
       "</div>"
      ],
      "text/plain": [
       "    business_name  mean_spend\n",
       "0                   72.994456\n",
       "1         Alcohol   13.873581\n",
       "2      Book Store   11.739204\n",
       "3         Butcher   22.671451\n",
       "4            Cafe    2.557353\n",
       "5        Children   49.949492\n",
       "6        Clothing   94.323919\n",
       "7   Entertainment    7.349229\n",
       "8            Game   18.405124\n",
       "9    Green Grocer   21.898616\n",
       "10            Gym   20.000000\n",
       "11           Home   31.173352\n",
       "12      Jewellery   21.587744\n",
       "13           Pets   19.725017\n",
       "14            Pub   11.758235\n",
       "15     Restaurant    9.220078\n",
       "16   Sports Store   74.253279\n",
       "17    Supermarket   66.537561\n",
       "18       Takeaway   35.077460\n",
       "19     Tech Store  166.709831"
      ]
     },
     "execution_count": 71,
     "metadata": {},
     "output_type": "execute_result"
    }
   ],
   "source": [
    "mean_spend_c3 = rfm_merged_cluster_3.groupby('business_name').agg({'monopoly_money_amount':'mean'}).reset_index()\n",
    "\n",
    "# rename 'monopoly_money_amount' column to 'average_spend'\n",
    "mean_spend_c3.rename(columns={'monopoly_money_amount':'mean_spend'}, inplace=True)\n",
    "mean_spend_c3"
   ]
  },
  {
   "cell_type": "code",
   "execution_count": null,
   "metadata": {},
   "outputs": [
    {
     "data": {
      "text/plain": [
       "<matplotlib.legend.Legend at 0x204952c7a50>"
      ]
     },
     "execution_count": 76,
     "metadata": {},
     "output_type": "execute_result"
    },
    {
     "data": {
      "image/png": "[encoded data removed]",
      "text/plain": [
       "<Figure size 1500x500 with 1 Axes>"
      ]
     },
     "metadata": {},
     "output_type": "display_data"
    }
   ],
   "source": [
    "# plot the mean_spend for each cluster snake plot\n",
    "plt.figure(figsize=(15, 5))\n",
    "plt.plot(mean_spend_c0['business_name'], mean_spend_c0['mean_spend'], label='Cluster 0')\n",
    "plt.xticks(rotation=45)\n",
    "\n",
    "# add mean_spend for cluster 1\n",
    "plt.plot(mean_spend_c1['business_name'], mean_spend_c1['mean_spend'], label='Cluster 1')\n",
    "\n",
    "# add mean_spend for cluster 2\n",
    "plt.plot(mean_spend_c2['business_name'], mean_spend_c2['mean_spend'], label='Cluster 2')\n",
    "\n",
    "# add mean_spend for cluster 3\n",
    "plt.plot(mean_spend_c3['business_name'], mean_spend_c3['mean_spend'], label='Cluster 3')\n",
    "# add legend\n",
    "plt.legend()\n"
   ]
  }
 ],
 "metadata": {
  "kernelspec": {
   "display_name": "Python 3",
   "language": "python",
   "name": "python3"
  },
  "language_info": {
   "codemirror_mode": {
    "name": "ipython",
    "version": 3
   },
   "file_extension": ".py",
   "mimetype": "text/x-python",
   "name": "python",
   "nbconvert_exporter": "python",
   "pygments_lexer": "ipython3",
   "version": "3.11.5"
  }
 },
 "nbformat": 4,
 "nbformat_minor": 2
}
