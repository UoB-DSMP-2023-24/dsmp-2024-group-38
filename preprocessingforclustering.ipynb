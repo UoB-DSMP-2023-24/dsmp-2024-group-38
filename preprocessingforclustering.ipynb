{
 "cells": [
  {
   "cell_type": "markdown",
   "metadata": {},
   "source": [
    "# DBSCANS"
   ]
  },
  {
   "cell_type": "markdown",
   "metadata": {},
   "source": [
    "Prepare data for DBSCAN "
   ]
  },
  {
   "cell_type": "code",
   "execution_count": 6,
   "metadata": {},
   "outputs": [],
   "source": [
    "import pandas as pd\n",
    "import numpy as np"
   ]
  },
  {
   "cell_type": "code",
   "execution_count": 7,
   "metadata": {},
   "outputs": [],
   "source": [
    "# read data from csv file\n",
    "fake_transaction = pd.read_csv('fake_transactional_data_24.csv')"
   ]
  },
  {
   "cell_type": "code",
   "execution_count": 8,
   "metadata": {},
   "outputs": [
    {
     "data": {
      "text/html": [
       "<div>\n",
       "<style scoped>\n",
       "    .dataframe tbody tr th:only-of-type {\n",
       "        vertical-align: middle;\n",
       "    }\n",
       "\n",
       "    .dataframe tbody tr th {\n",
       "        vertical-align: top;\n",
       "    }\n",
       "\n",
       "    .dataframe thead th {\n",
       "        text-align: right;\n",
       "    }\n",
       "</style>\n",
       "<table border=\"1\" class=\"dataframe\">\n",
       "  <thead>\n",
       "    <tr style=\"text-align: right;\">\n",
       "      <th></th>\n",
       "      <th>from_totally_fake_account</th>\n",
       "      <th>monopoly_money_amount</th>\n",
       "    </tr>\n",
       "  </thead>\n",
       "  <tbody>\n",
       "    <tr>\n",
       "      <th>0</th>\n",
       "      <td>1000.0</td>\n",
       "      <td>28698.51</td>\n",
       "    </tr>\n",
       "    <tr>\n",
       "      <th>1</th>\n",
       "      <td>1002.0</td>\n",
       "      <td>15622.97</td>\n",
       "    </tr>\n",
       "    <tr>\n",
       "      <th>2</th>\n",
       "      <td>1006.0</td>\n",
       "      <td>18778.19</td>\n",
       "    </tr>\n",
       "    <tr>\n",
       "      <th>3</th>\n",
       "      <td>1018.0</td>\n",
       "      <td>15612.21</td>\n",
       "    </tr>\n",
       "    <tr>\n",
       "      <th>4</th>\n",
       "      <td>1053.0</td>\n",
       "      <td>19444.57</td>\n",
       "    </tr>\n",
       "    <tr>\n",
       "      <th>...</th>\n",
       "      <td>...</td>\n",
       "      <td>...</td>\n",
       "    </tr>\n",
       "    <tr>\n",
       "      <th>8137</th>\n",
       "      <td>100931.0</td>\n",
       "      <td>22332.81</td>\n",
       "    </tr>\n",
       "    <tr>\n",
       "      <th>8138</th>\n",
       "      <td>100934.0</td>\n",
       "      <td>18579.25</td>\n",
       "    </tr>\n",
       "    <tr>\n",
       "      <th>8139</th>\n",
       "      <td>100947.0</td>\n",
       "      <td>20783.20</td>\n",
       "    </tr>\n",
       "    <tr>\n",
       "      <th>8140</th>\n",
       "      <td>100986.0</td>\n",
       "      <td>15314.23</td>\n",
       "    </tr>\n",
       "    <tr>\n",
       "      <th>8141</th>\n",
       "      <td>100988.0</td>\n",
       "      <td>19714.77</td>\n",
       "    </tr>\n",
       "  </tbody>\n",
       "</table>\n",
       "<p>8142 rows × 2 columns</p>\n",
       "</div>"
      ],
      "text/plain": [
       "      from_totally_fake_account  monopoly_money_amount\n",
       "0                        1000.0               28698.51\n",
       "1                        1002.0               15622.97\n",
       "2                        1006.0               18778.19\n",
       "3                        1018.0               15612.21\n",
       "4                        1053.0               19444.57\n",
       "...                         ...                    ...\n",
       "8137                   100931.0               22332.81\n",
       "8138                   100934.0               18579.25\n",
       "8139                   100947.0               20783.20\n",
       "8140                   100986.0               15314.23\n",
       "8141                   100988.0               19714.77\n",
       "\n",
       "[8142 rows x 2 columns]"
      ]
     },
     "execution_count": 8,
     "metadata": {},
     "output_type": "execute_result"
    }
   ],
   "source": [
    "aggregated_data = fake_transaction.groupby('from_totally_fake_account')['monopoly_money_amount'].sum().reset_index()\n",
    "aggregated_data"
   ]
  },
  {
   "cell_type": "code",
   "execution_count": 9,
   "metadata": {},
   "outputs": [
    {
     "name": "stdout",
     "output_type": "stream",
     "text": [
      "                              top_1    top_2    top_3\n",
      "from_totally_fake_account                            \n",
      "1000.0                     16130.00  1316.00   850.50\n",
      "1002.0                      4126.75  1489.42  1284.00\n",
      "1006.0                      2603.15  1610.28  1429.71\n",
      "1018.0                      3564.00  1148.00  1038.00\n",
      "1053.0                      4507.00  1723.00  1295.85\n",
      "...                             ...      ...      ...\n",
      "100931.0                    4103.65  2016.59  1751.00\n",
      "100934.0                    3414.50  1906.45  1658.14\n",
      "100947.0                    2396.50  1901.31  1460.90\n",
      "100986.0                    1841.74  1520.87  1236.50\n",
      "100988.0                    3565.50  1262.41  1167.00\n",
      "\n",
      "[8142 rows x 3 columns]\n"
     ]
    }
   ],
   "source": [
    "# filter out non-numeric values from the 'monopoly_money_amount' column\n",
    "fake_transaction['monopoly_money_amount'] = pd.to_numeric(fake_transaction['monopoly_money_amount'], errors='coerce')\n",
    "\n",
    "# drop rows with NaN values in 'monopoly_money_amount'\n",
    "fake_transaction.dropna(subset=['monopoly_money_amount'], inplace=True)\n",
    "\n",
    "# group by 'from_totally_fake_account' and 'to_randomly_generated_account' and calculate the sum\n",
    "agg_result = fake_transaction.groupby(['from_totally_fake_account', 'to_randomly_generated_account'])['monopoly_money_amount'].sum()\n",
    "\n",
    "# reset the index to make the groupby result a DataFrame\n",
    "agg_result = agg_result.reset_index()\n",
    "\n",
    "# create a function to get the top 3 values for each group\n",
    "def get_top_3(group):\n",
    "    return group.nlargest(3, 'monopoly_money_amount')\n",
    "\n",
    "# group by 'from_totally_fake_account' and apply the function to get the top 3 values\n",
    "top_3_values = agg_result.groupby('from_totally_fake_account').apply(get_top_3)\n",
    "\n",
    "# reset the index to make 'from_totally_fake_account' a regular column instead of an index\n",
    "top_3_values.reset_index(drop=True, inplace=True)  # Drop the existing index\n",
    "\n",
    "# pivot\n",
    "top_3_pivot = top_3_values.pivot_table(index='from_totally_fake_account', columns=top_3_values.groupby('from_totally_fake_account').cumcount() + 1, values='monopoly_money_amount')\n",
    "\n",
    "# rename the columns\n",
    "top_3_pivot.columns = [f'top_{col}' for col in top_3_pivot.columns]\n",
    "\n",
    "print(top_3_pivot)\n"
   ]
  },
  {
   "cell_type": "code",
   "execution_count": 10,
   "metadata": {},
   "outputs": [
    {
     "name": "stdout",
     "output_type": "stream",
     "text": [
      "                              top_1    top_2    top_3 top_1_account  \\\n",
      "from_totally_fake_account                                             \n",
      "1000.0                     16130.00  1316.00   850.50         31489   \n",
      "1002.0                      4126.75  1489.42  1284.00         23010   \n",
      "1006.0                      2603.15  1610.28  1429.71         80751   \n",
      "1018.0                      3564.00  1148.00  1038.00         11822   \n",
      "1053.0                      4507.00  1723.00  1295.85         57069   \n",
      "...                             ...      ...      ...           ...   \n",
      "100931.0                    4103.65  2016.59  1751.00         88568   \n",
      "100934.0                    3414.50  1906.45  1658.14         82585   \n",
      "100947.0                    2396.50  1901.31  1460.90         48039   \n",
      "100986.0                    1841.74  1520.87  1236.50           PUB   \n",
      "100988.0                    3565.50  1262.41  1167.00         51576   \n",
      "\n",
      "                                 top_2_account    top_3_account  \n",
      "from_totally_fake_account                                        \n",
      "1000.0                                     PUB              BAR  \n",
      "1002.0                                     PUB              BAR  \n",
      "1006.0                                     PUB      GREENGROCER  \n",
      "1018.0                        DEPARTMENT_STORE     FASHION_SHOP  \n",
      "1053.0                            FASHION_SHOP              PUB  \n",
      "...                                        ...              ...  \n",
      "100931.0                                   PUB              BAR  \n",
      "100934.0                   EXPRESS_SUPERMARKET  THE_SUPERMARKET  \n",
      "100947.0                         A_SUPERMARKET  THE_SUPERMARKET  \n",
      "100986.0                       THE_SUPERMARKET              BAR  \n",
      "100988.0                                   PUB     FASHION_SHOP  \n",
      "\n",
      "[8142 rows x 6 columns]\n"
     ]
    }
   ],
   "source": [
    "# function to get the corresponding 'to_randomly_generated_account' for each top spending amount\n",
    "def get_top_account(top_value, agg_result):\n",
    "    # get the 'to_randomly_generated_account' corresponding to the top spending amount\n",
    "    top_account = agg_result.loc[agg_result['monopoly_money_amount'] == top_value, 'to_randomly_generated_account'].values[0]\n",
    "    return top_account\n",
    "\n",
    "# mapping the top spending amounts to the corresponding 'to_randomly_generated_account' for each top\n",
    "top_3_pivot['top_1_account'] = top_3_pivot['top_1'].apply(lambda x: get_top_account(x, agg_result))\n",
    "top_3_pivot['top_2_account'] = top_3_pivot['top_2'].apply(lambda x: get_top_account(x, agg_result))\n",
    "top_3_pivot['top_3_account'] = top_3_pivot['top_3'].apply(lambda x: get_top_account(x, agg_result))\n",
    "\n",
    "print(top_3_pivot)\n"
   ]
  }
 ],
 "metadata": {
  "kernelspec": {
   "display_name": "Python 3",
   "language": "python",
   "name": "python3"
  },
  "language_info": {
   "codemirror_mode": {
    "name": "ipython",
    "version": 3
   },
   "file_extension": ".py",
   "mimetype": "text/x-python",
   "name": "python",
   "nbconvert_exporter": "python",
   "pygments_lexer": "ipython3",
   "version": "3.11.5"
  },
  "orig_nbformat": 4
 },
 "nbformat": 4,
 "nbformat_minor": 2
}
