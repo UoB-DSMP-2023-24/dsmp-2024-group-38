{
 "cells": [
  {
   "cell_type": "code",
   "execution_count": 2,
   "metadata": {},
   "outputs": [],
   "source": [
    "import pandas as pd\n",
    "import numpy as np\n",
    "import matplotlib.pyplot as plt\n",
    "import seaborn as sns\n",
    "\n",
    "#set pd max rows\n",
    "pd.set_option('display.max_rows', 500)"
   ]
  },
  {
   "cell_type": "code",
   "execution_count": 3,
   "metadata": {},
   "outputs": [
    {
     "data": {
      "text/plain": [
       "(230596, 7)"
      ]
     },
     "execution_count": 3,
     "metadata": {},
     "output_type": "execute_result"
    }
   ],
   "source": [
    "bank1 = pd.read_csv('simulated_transaction_2024.csv')\n",
    "bank1.shape"
   ]
  },
  {
   "cell_type": "code",
   "execution_count": 4,
   "metadata": {},
   "outputs": [],
   "source": [
    "#bank1 = pd.read_csv('simulated_transactions_2024_wo_accountNo.csv')\n",
    "#bank1.shape\n",
    "#bank1.head()"
   ]
  },
  {
   "cell_type": "code",
   "execution_count": 5,
   "metadata": {},
   "outputs": [
    {
     "data": {
      "text/plain": [
       "(230372, 7)"
      ]
     },
     "execution_count": 5,
     "metadata": {},
     "output_type": "execute_result"
    }
   ],
   "source": [
    "bank = pd.read_csv('df.csv')\n",
    "bank.shape"
   ]
  },
  {
   "cell_type": "code",
   "execution_count": 6,
   "metadata": {},
   "outputs": [
    {
     "data": {
      "text/html": [
       "<div>\n",
       "<style scoped>\n",
       "    .dataframe tbody tr th:only-of-type {\n",
       "        vertical-align: middle;\n",
       "    }\n",
       "\n",
       "    .dataframe tbody tr th {\n",
       "        vertical-align: top;\n",
       "    }\n",
       "\n",
       "    .dataframe thead th {\n",
       "        text-align: right;\n",
       "    }\n",
       "</style>\n",
       "<table border=\"1\" class=\"dataframe\">\n",
       "  <thead>\n",
       "    <tr style=\"text-align: right;\">\n",
       "      <th></th>\n",
       "      <th>Unnamed: 0</th>\n",
       "      <th>Account No</th>\n",
       "      <th>Balance</th>\n",
       "      <th>Amount</th>\n",
       "      <th>Third Party Account No</th>\n",
       "      <th>Third Party Name</th>\n",
       "      <th>DateTime</th>\n",
       "    </tr>\n",
       "  </thead>\n",
       "  <tbody>\n",
       "    <tr>\n",
       "      <th>0</th>\n",
       "      <td>0</td>\n",
       "      <td>678330503.0</td>\n",
       "      <td>2971.0</td>\n",
       "      <td>1584.0</td>\n",
       "      <td>NaN</td>\n",
       "      <td>Westport Care Home</td>\n",
       "      <td>2023-01-01 00:00:00</td>\n",
       "    </tr>\n",
       "    <tr>\n",
       "      <th>1</th>\n",
       "      <td>1</td>\n",
       "      <td>472213568.0</td>\n",
       "      <td>3792.0</td>\n",
       "      <td>1950.0</td>\n",
       "      <td>NaN</td>\n",
       "      <td>Barbiee Boutique</td>\n",
       "      <td>2023-01-01 00:00:00</td>\n",
       "    </tr>\n",
       "    <tr>\n",
       "      <th>2</th>\n",
       "      <td>2</td>\n",
       "      <td>472213568.0</td>\n",
       "      <td>3012.0</td>\n",
       "      <td>-780.0</td>\n",
       "      <td>283027736.0</td>\n",
       "      <td>NaN</td>\n",
       "      <td>2023-01-01 00:00:00</td>\n",
       "    </tr>\n",
       "    <tr>\n",
       "      <th>3</th>\n",
       "      <td>3</td>\n",
       "      <td>283027736.0</td>\n",
       "      <td>1787.0</td>\n",
       "      <td>780.0</td>\n",
       "      <td>472213568.0</td>\n",
       "      <td>NaN</td>\n",
       "      <td>2023-01-01 00:00:00</td>\n",
       "    </tr>\n",
       "    <tr>\n",
       "      <th>4</th>\n",
       "      <td>4</td>\n",
       "      <td>624500124.0</td>\n",
       "      <td>3226.0</td>\n",
       "      <td>1825.0</td>\n",
       "      <td>NaN</td>\n",
       "      <td>Fat Face</td>\n",
       "      <td>2023-01-01 00:00:00</td>\n",
       "    </tr>\n",
       "  </tbody>\n",
       "</table>\n",
       "</div>"
      ],
      "text/plain": [
       "   Unnamed: 0   Account No  Balance  Amount  Third Party Account No  \\\n",
       "0           0  678330503.0   2971.0  1584.0                     NaN   \n",
       "1           1  472213568.0   3792.0  1950.0                     NaN   \n",
       "2           2  472213568.0   3012.0  -780.0             283027736.0   \n",
       "3           3  283027736.0   1787.0   780.0             472213568.0   \n",
       "4           4  624500124.0   3226.0  1825.0                     NaN   \n",
       "\n",
       "     Third Party Name             DateTime  \n",
       "0  Westport Care Home  2023-01-01 00:00:00  \n",
       "1    Barbiee Boutique  2023-01-01 00:00:00  \n",
       "2                 NaN  2023-01-01 00:00:00  \n",
       "3                 NaN  2023-01-01 00:00:00  \n",
       "4            Fat Face  2023-01-01 00:00:00  "
      ]
     },
     "execution_count": 6,
     "metadata": {},
     "output_type": "execute_result"
    }
   ],
   "source": [
    "bank.head()"
   ]
  },
  {
   "cell_type": "code",
   "execution_count": 7,
   "metadata": {},
   "outputs": [
    {
     "data": {
      "text/plain": [
       "Unnamed: 0                     0\n",
       "Account No                     0\n",
       "Balance                        0\n",
       "Amount                         1\n",
       "Third Party Account No    223543\n",
       "Third Party Name            7075\n",
       "DateTime                       0\n",
       "dtype: int64"
      ]
     },
     "execution_count": 7,
     "metadata": {},
     "output_type": "execute_result"
    }
   ],
   "source": [
    "#null values\n",
    "bank.isnull().sum()"
   ]
  },
  {
   "cell_type": "code",
   "execution_count": 8,
   "metadata": {},
   "outputs": [
    {
     "data": {
      "text/html": [
       "<div>\n",
       "<style scoped>\n",
       "    .dataframe tbody tr th:only-of-type {\n",
       "        vertical-align: middle;\n",
       "    }\n",
       "\n",
       "    .dataframe tbody tr th {\n",
       "        vertical-align: top;\n",
       "    }\n",
       "\n",
       "    .dataframe thead th {\n",
       "        text-align: right;\n",
       "    }\n",
       "</style>\n",
       "<table border=\"1\" class=\"dataframe\">\n",
       "  <thead>\n",
       "    <tr style=\"text-align: right;\">\n",
       "      <th></th>\n",
       "      <th>Unnamed: 0</th>\n",
       "      <th>Account No</th>\n",
       "      <th>Balance</th>\n",
       "      <th>Amount</th>\n",
       "      <th>Third Party Account No</th>\n",
       "      <th>Third Party Name</th>\n",
       "      <th>DateTime</th>\n",
       "      <th>Date</th>\n",
       "      <th>Timestamp</th>\n",
       "    </tr>\n",
       "  </thead>\n",
       "  <tbody>\n",
       "    <tr>\n",
       "      <th>0</th>\n",
       "      <td>0</td>\n",
       "      <td>678330503.0</td>\n",
       "      <td>2971.0</td>\n",
       "      <td>1584.0</td>\n",
       "      <td>NaN</td>\n",
       "      <td>Westport Care Home</td>\n",
       "      <td>2023-01-01 00:00:00</td>\n",
       "      <td>2023-01-01</td>\n",
       "      <td>00:00:00</td>\n",
       "    </tr>\n",
       "    <tr>\n",
       "      <th>1</th>\n",
       "      <td>1</td>\n",
       "      <td>472213568.0</td>\n",
       "      <td>3792.0</td>\n",
       "      <td>1950.0</td>\n",
       "      <td>NaN</td>\n",
       "      <td>Barbiee Boutique</td>\n",
       "      <td>2023-01-01 00:00:00</td>\n",
       "      <td>2023-01-01</td>\n",
       "      <td>00:00:00</td>\n",
       "    </tr>\n",
       "    <tr>\n",
       "      <th>2</th>\n",
       "      <td>2</td>\n",
       "      <td>472213568.0</td>\n",
       "      <td>3012.0</td>\n",
       "      <td>-780.0</td>\n",
       "      <td>283027736.0</td>\n",
       "      <td>NaN</td>\n",
       "      <td>2023-01-01 00:00:00</td>\n",
       "      <td>2023-01-01</td>\n",
       "      <td>00:00:00</td>\n",
       "    </tr>\n",
       "    <tr>\n",
       "      <th>3</th>\n",
       "      <td>3</td>\n",
       "      <td>283027736.0</td>\n",
       "      <td>1787.0</td>\n",
       "      <td>780.0</td>\n",
       "      <td>472213568.0</td>\n",
       "      <td>NaN</td>\n",
       "      <td>2023-01-01 00:00:00</td>\n",
       "      <td>2023-01-01</td>\n",
       "      <td>00:00:00</td>\n",
       "    </tr>\n",
       "    <tr>\n",
       "      <th>4</th>\n",
       "      <td>4</td>\n",
       "      <td>624500124.0</td>\n",
       "      <td>3226.0</td>\n",
       "      <td>1825.0</td>\n",
       "      <td>NaN</td>\n",
       "      <td>Fat Face</td>\n",
       "      <td>2023-01-01 00:00:00</td>\n",
       "      <td>2023-01-01</td>\n",
       "      <td>00:00:00</td>\n",
       "    </tr>\n",
       "  </tbody>\n",
       "</table>\n",
       "</div>"
      ],
      "text/plain": [
       "   Unnamed: 0   Account No  Balance  Amount  Third Party Account No  \\\n",
       "0           0  678330503.0   2971.0  1584.0                     NaN   \n",
       "1           1  472213568.0   3792.0  1950.0                     NaN   \n",
       "2           2  472213568.0   3012.0  -780.0             283027736.0   \n",
       "3           3  283027736.0   1787.0   780.0             472213568.0   \n",
       "4           4  624500124.0   3226.0  1825.0                     NaN   \n",
       "\n",
       "     Third Party Name             DateTime        Date Timestamp  \n",
       "0  Westport Care Home  2023-01-01 00:00:00  2023-01-01  00:00:00  \n",
       "1    Barbiee Boutique  2023-01-01 00:00:00  2023-01-01  00:00:00  \n",
       "2                 NaN  2023-01-01 00:00:00  2023-01-01  00:00:00  \n",
       "3                 NaN  2023-01-01 00:00:00  2023-01-01  00:00:00  \n",
       "4            Fat Face  2023-01-01 00:00:00  2023-01-01  00:00:00  "
      ]
     },
     "execution_count": 8,
     "metadata": {},
     "output_type": "execute_result"
    }
   ],
   "source": [
    "# split DateTime into Date and Time\n",
    "bank['Date'] = pd.to_datetime(bank['DateTime'],dayfirst=False ).dt.date\n",
    "bank['Timestamp'] = pd.to_datetime(bank['DateTime']).dt.time\n",
    "bank.head()"
   ]
  },
  {
   "cell_type": "markdown",
   "metadata": {},
   "source": [
    "#### Income Estimation"
   ]
  },
  {
   "cell_type": "code",
   "execution_count": 9,
   "metadata": {},
   "outputs": [
    {
     "name": "stdout",
     "output_type": "stream",
     "text": [
      "Number of unique accounts in original bank:  976\n",
      "Number of unique accounts after filtering for incomings only:  616\n",
      "No of accounts with no incoming transactions: 360\n"
     ]
    }
   ],
   "source": [
    "# Just get positive transactions into the balance\n",
    "print('Number of unique accounts in original bank: ', len(bank['Account No'].unique()))\n",
    "bank_amount_incomings = bank[bank['Amount'] > 0]\n",
    "\n",
    "# remove rows with non-null values in 'Third Party Name' - i.e. merchant transactions\n",
    "bank_amount_incomings = bank_amount_incomings[bank_amount_incomings['Third Party Name'].notnull()]\n",
    "\n",
    "#check if there are any null values in the dataset\n",
    "bank_amount_incomings.isnull().sum()\n",
    "\n",
    "# print number of unique accounts\n",
    "print('Number of unique accounts after filtering for incomings only: ', len(bank_amount_incomings['Account No'].unique()))\n",
    "\n",
    "bank_amount_incomings.head(10)\n",
    "\n",
    "\n",
    "# get account numbers who don't have any positive transactions from a Third Party Name merchant\n",
    "accounts_no_incomings = bank[~bank['Account No'].isin(bank_amount_incomings['Account No'])]\n",
    "\n",
    "print(f'No of accounts with no incoming transactions: {len(accounts_no_incomings[\"Account No\"].unique())}')"
   ]
  },
  {
   "cell_type": "code",
   "execution_count": 10,
   "metadata": {},
   "outputs": [
    {
     "name": "stdout",
     "output_type": "stream",
     "text": [
      "Max date in February:  2023-02-28 00:00:00\n",
      "Min date in February:  2023-02-01 00:00:00\n"
     ]
    },
    {
     "data": {
      "text/html": [
       "<div>\n",
       "<style scoped>\n",
       "    .dataframe tbody tr th:only-of-type {\n",
       "        vertical-align: middle;\n",
       "    }\n",
       "\n",
       "    .dataframe tbody tr th {\n",
       "        vertical-align: top;\n",
       "    }\n",
       "\n",
       "    .dataframe thead th {\n",
       "        text-align: right;\n",
       "    }\n",
       "</style>\n",
       "<table border=\"1\" class=\"dataframe\">\n",
       "  <thead>\n",
       "    <tr style=\"text-align: right;\">\n",
       "      <th></th>\n",
       "      <th>Unnamed: 0</th>\n",
       "      <th>Account No</th>\n",
       "      <th>Balance</th>\n",
       "      <th>Amount</th>\n",
       "      <th>Third Party Account No</th>\n",
       "      <th>Third Party Name</th>\n",
       "      <th>DateTime</th>\n",
       "      <th>Date</th>\n",
       "      <th>Timestamp</th>\n",
       "    </tr>\n",
       "  </thead>\n",
       "  <tbody>\n",
       "    <tr>\n",
       "      <th>38843</th>\n",
       "      <td>38843</td>\n",
       "      <td>833499132.0</td>\n",
       "      <td>2556.168350</td>\n",
       "      <td>2708.00</td>\n",
       "      <td>NaN</td>\n",
       "      <td>Halifax</td>\n",
       "      <td>2023-02-28 00:00:00</td>\n",
       "      <td>2023-02-28</td>\n",
       "      <td>00:00:00</td>\n",
       "    </tr>\n",
       "    <tr>\n",
       "      <th>38846</th>\n",
       "      <td>38846</td>\n",
       "      <td>859264768.0</td>\n",
       "      <td>1815.465942</td>\n",
       "      <td>1545.00</td>\n",
       "      <td>NaN</td>\n",
       "      <td>Vision Express</td>\n",
       "      <td>2023-02-28 00:00:00</td>\n",
       "      <td>2023-02-28</td>\n",
       "      <td>00:00:00</td>\n",
       "    </tr>\n",
       "    <tr>\n",
       "      <th>38849</th>\n",
       "      <td>38849</td>\n",
       "      <td>788740658.0</td>\n",
       "      <td>2537.061150</td>\n",
       "      <td>1675.00</td>\n",
       "      <td>NaN</td>\n",
       "      <td>Matalan</td>\n",
       "      <td>2023-02-28 00:00:00</td>\n",
       "      <td>2023-02-28</td>\n",
       "      <td>00:00:00</td>\n",
       "    </tr>\n",
       "    <tr>\n",
       "      <th>38850</th>\n",
       "      <td>38850</td>\n",
       "      <td>106601471.0</td>\n",
       "      <td>2845.874540</td>\n",
       "      <td>1675.00</td>\n",
       "      <td>NaN</td>\n",
       "      <td>Hobbycraft</td>\n",
       "      <td>2023-02-28 00:00:00</td>\n",
       "      <td>2023-02-28</td>\n",
       "      <td>00:00:00</td>\n",
       "    </tr>\n",
       "    <tr>\n",
       "      <th>38851</th>\n",
       "      <td>38851</td>\n",
       "      <td>696333897.0</td>\n",
       "      <td>1716.316000</td>\n",
       "      <td>1842.50</td>\n",
       "      <td>NaN</td>\n",
       "      <td>Jollyes</td>\n",
       "      <td>2023-02-28 00:00:00</td>\n",
       "      <td>2023-02-28</td>\n",
       "      <td>00:00:00</td>\n",
       "    </tr>\n",
       "    <tr>\n",
       "      <th>38854</th>\n",
       "      <td>38854</td>\n",
       "      <td>558875206.0</td>\n",
       "      <td>3076.427350</td>\n",
       "      <td>3125.00</td>\n",
       "      <td>NaN</td>\n",
       "      <td>CPA</td>\n",
       "      <td>2023-02-28 00:00:00</td>\n",
       "      <td>2023-02-28</td>\n",
       "      <td>00:00:00</td>\n",
       "    </tr>\n",
       "    <tr>\n",
       "      <th>38855</th>\n",
       "      <td>38855</td>\n",
       "      <td>331450202.0</td>\n",
       "      <td>3791.867700</td>\n",
       "      <td>3087.75</td>\n",
       "      <td>NaN</td>\n",
       "      <td>CPA</td>\n",
       "      <td>2023-02-28 00:00:00</td>\n",
       "      <td>2023-02-28</td>\n",
       "      <td>00:00:00</td>\n",
       "    </tr>\n",
       "    <tr>\n",
       "      <th>38856</th>\n",
       "      <td>38856</td>\n",
       "      <td>683078800.0</td>\n",
       "      <td>3375.129867</td>\n",
       "      <td>3126.00</td>\n",
       "      <td>NaN</td>\n",
       "      <td>LBG</td>\n",
       "      <td>2023-02-28 00:00:00</td>\n",
       "      <td>2023-02-28</td>\n",
       "      <td>00:00:00</td>\n",
       "    </tr>\n",
       "    <tr>\n",
       "      <th>38859</th>\n",
       "      <td>38859</td>\n",
       "      <td>651756497.0</td>\n",
       "      <td>6075.964878</td>\n",
       "      <td>4375.00</td>\n",
       "      <td>NaN</td>\n",
       "      <td>CPA</td>\n",
       "      <td>2023-02-28 00:00:00</td>\n",
       "      <td>2023-02-28</td>\n",
       "      <td>00:00:00</td>\n",
       "    </tr>\n",
       "    <tr>\n",
       "      <th>38860</th>\n",
       "      <td>38860</td>\n",
       "      <td>435984758.0</td>\n",
       "      <td>2746.848874</td>\n",
       "      <td>2250.00</td>\n",
       "      <td>NaN</td>\n",
       "      <td>LBG</td>\n",
       "      <td>2023-02-28 00:00:00</td>\n",
       "      <td>2023-02-28</td>\n",
       "      <td>00:00:00</td>\n",
       "    </tr>\n",
       "    <tr>\n",
       "      <th>38861</th>\n",
       "      <td>38861</td>\n",
       "      <td>699997811.0</td>\n",
       "      <td>3628.058750</td>\n",
       "      <td>3542.00</td>\n",
       "      <td>NaN</td>\n",
       "      <td>Halifax</td>\n",
       "      <td>2023-02-28 00:00:00</td>\n",
       "      <td>2023-02-28</td>\n",
       "      <td>00:00:00</td>\n",
       "    </tr>\n",
       "    <tr>\n",
       "      <th>38863</th>\n",
       "      <td>38863</td>\n",
       "      <td>730002588.0</td>\n",
       "      <td>5050.050800</td>\n",
       "      <td>3957.00</td>\n",
       "      <td>NaN</td>\n",
       "      <td>Halifax</td>\n",
       "      <td>2023-02-28 00:00:00</td>\n",
       "      <td>2023-02-28</td>\n",
       "      <td>00:00:00</td>\n",
       "    </tr>\n",
       "    <tr>\n",
       "      <th>38864</th>\n",
       "      <td>38864</td>\n",
       "      <td>834581602.0</td>\n",
       "      <td>1956.167400</td>\n",
       "      <td>2042.00</td>\n",
       "      <td>NaN</td>\n",
       "      <td>CPA</td>\n",
       "      <td>2023-02-28 00:00:00</td>\n",
       "      <td>2023-02-28</td>\n",
       "      <td>00:00:00</td>\n",
       "    </tr>\n",
       "    <tr>\n",
       "      <th>38868</th>\n",
       "      <td>38868</td>\n",
       "      <td>121858569.0</td>\n",
       "      <td>3897.362650</td>\n",
       "      <td>3750.00</td>\n",
       "      <td>NaN</td>\n",
       "      <td>Lloyds Pharmacy</td>\n",
       "      <td>2023-02-28 00:00:00</td>\n",
       "      <td>2023-02-28</td>\n",
       "      <td>00:00:00</td>\n",
       "    </tr>\n",
       "    <tr>\n",
       "      <th>38871</th>\n",
       "      <td>38871</td>\n",
       "      <td>264208990.0</td>\n",
       "      <td>3199.772500</td>\n",
       "      <td>2918.00</td>\n",
       "      <td>NaN</td>\n",
       "      <td>Remedy plus care</td>\n",
       "      <td>2023-02-28 00:00:00</td>\n",
       "      <td>2023-02-28</td>\n",
       "      <td>00:00:00</td>\n",
       "    </tr>\n",
       "  </tbody>\n",
       "</table>\n",
       "</div>"
      ],
      "text/plain": [
       "       Unnamed: 0   Account No      Balance   Amount  Third Party Account No  \\\n",
       "38843       38843  833499132.0  2556.168350  2708.00                     NaN   \n",
       "38846       38846  859264768.0  1815.465942  1545.00                     NaN   \n",
       "38849       38849  788740658.0  2537.061150  1675.00                     NaN   \n",
       "38850       38850  106601471.0  2845.874540  1675.00                     NaN   \n",
       "38851       38851  696333897.0  1716.316000  1842.50                     NaN   \n",
       "38854       38854  558875206.0  3076.427350  3125.00                     NaN   \n",
       "38855       38855  331450202.0  3791.867700  3087.75                     NaN   \n",
       "38856       38856  683078800.0  3375.129867  3126.00                     NaN   \n",
       "38859       38859  651756497.0  6075.964878  4375.00                     NaN   \n",
       "38860       38860  435984758.0  2746.848874  2250.00                     NaN   \n",
       "38861       38861  699997811.0  3628.058750  3542.00                     NaN   \n",
       "38863       38863  730002588.0  5050.050800  3957.00                     NaN   \n",
       "38864       38864  834581602.0  1956.167400  2042.00                     NaN   \n",
       "38868       38868  121858569.0  3897.362650  3750.00                     NaN   \n",
       "38871       38871  264208990.0  3199.772500  2918.00                     NaN   \n",
       "\n",
       "       Third Party Name             DateTime       Date Timestamp  \n",
       "38843           Halifax  2023-02-28 00:00:00 2023-02-28  00:00:00  \n",
       "38846    Vision Express  2023-02-28 00:00:00 2023-02-28  00:00:00  \n",
       "38849           Matalan  2023-02-28 00:00:00 2023-02-28  00:00:00  \n",
       "38850        Hobbycraft  2023-02-28 00:00:00 2023-02-28  00:00:00  \n",
       "38851           Jollyes  2023-02-28 00:00:00 2023-02-28  00:00:00  \n",
       "38854               CPA  2023-02-28 00:00:00 2023-02-28  00:00:00  \n",
       "38855               CPA  2023-02-28 00:00:00 2023-02-28  00:00:00  \n",
       "38856               LBG  2023-02-28 00:00:00 2023-02-28  00:00:00  \n",
       "38859               CPA  2023-02-28 00:00:00 2023-02-28  00:00:00  \n",
       "38860               LBG  2023-02-28 00:00:00 2023-02-28  00:00:00  \n",
       "38861           Halifax  2023-02-28 00:00:00 2023-02-28  00:00:00  \n",
       "38863           Halifax  2023-02-28 00:00:00 2023-02-28  00:00:00  \n",
       "38864               CPA  2023-02-28 00:00:00 2023-02-28  00:00:00  \n",
       "38868   Lloyds Pharmacy  2023-02-28 00:00:00 2023-02-28  00:00:00  \n",
       "38871  Remedy plus care  2023-02-28 00:00:00 2023-02-28  00:00:00  "
      ]
     },
     "execution_count": 10,
     "metadata": {},
     "output_type": "execute_result"
    }
   ],
   "source": [
    "# filter rows for only 2nd month of the year\n",
    "# convert 'Date' to datetime format'\n",
    "bank_amount_incomings['Date'] = pd.to_datetime(bank_amount_incomings['Date'],dayfirst=False)\n",
    "bank_feb = bank_amount_incomings[bank_amount_incomings['Date'].dt.month == 2]\n",
    "\n",
    "# get max and min dates in february\n",
    "max_date_feb = bank_feb['Date'].max()\n",
    "min_date_feb = bank_feb['Date'].min()\n",
    "\n",
    "print('Max date in February: ', max_date_feb)\n",
    "print('Min date in February: ', min_date_feb)\n",
    "\n",
    "bank_feb.tail(15)\n"
   ]
  },
  {
   "cell_type": "markdown",
   "metadata": {},
   "source": [
    "- Potentially need to remove last month as it only goes up to the 6th so may miss some people's incomes coming in as they seem to come in throughout the month."
   ]
  },
  {
   "cell_type": "code",
   "execution_count": 11,
   "metadata": {},
   "outputs": [],
   "source": [
    "# drop transactions in december\n",
    "bank_amount_incomings_without_dec = bank_amount_incomings[bank_amount_incomings['Date'].dt.month != 12]\n",
    "\n",
    "# group by Account No and sum the 'Amount' for each account but normalise dividing by number of transactions for each account\n",
    "income_per_account = bank_amount_incomings_without_dec.groupby('Account No')['Amount'].sum()\n",
    "\n",
    "# calculate the annual income for each account\n",
    "incomes=(income_per_account/11)*12 # multiply by 12 to get annual income\n",
    "incomes_monthly = income_per_account/11"
   ]
  },
  {
   "cell_type": "code",
   "execution_count": 12,
   "metadata": {},
   "outputs": [
    {
     "data": {
      "text/plain": [
       "<Axes: xlabel='Amount', ylabel='Count'>"
      ]
     },
     "execution_count": 12,
     "metadata": {},
     "output_type": "execute_result"
    },
    {
     "data": {
      "image/png": "[encoded data removed]",
      "text/plain": [
       "<Figure size 640x480 with 1 Axes>"
      ]
     },
     "metadata": {},
     "output_type": "display_data"
    }
   ],
   "source": [
    "# kde plot of income per account\n",
    "sns.histplot(incomes, fill=True,bins=25)"
   ]
  },
  {
   "cell_type": "code",
   "execution_count": 13,
   "metadata": {},
   "outputs": [
    {
     "data": {
      "text/plain": [
       "<Axes: xlabel='Amount', ylabel='Density'>"
      ]
     },
     "execution_count": 13,
     "metadata": {},
     "output_type": "execute_result"
    },
    {
     "data": {
      "image/png": "[encoded data removed]",
      "text/plain": [
       "<Figure size 640x480 with 1 Axes>"
      ]
     },
     "metadata": {},
     "output_type": "display_data"
    }
   ],
   "source": [
    "sns.kdeplot(incomes, fill=True)"
   ]
  },
  {
   "cell_type": "markdown",
   "metadata": {},
   "source": [
    "Salary distribution seems to roughly align with [ONS Data](https://www.ons.gov.uk/peoplepopulationandcommunity/personalandhouseholdfinances/incomeandwealth/bulletins/householddisposableincomeandinequality/yearending2018) in 2018"
   ]
  },
  {
   "cell_type": "markdown",
   "metadata": {},
   "source": [
    "#### Studying distribution of salaries against an individuals spend"
   ]
  },
  {
   "cell_type": "code",
   "execution_count": 14,
   "metadata": {},
   "outputs": [
    {
     "data": {
      "text/html": [
       "<div>\n",
       "<style scoped>\n",
       "    .dataframe tbody tr th:only-of-type {\n",
       "        vertical-align: middle;\n",
       "    }\n",
       "\n",
       "    .dataframe tbody tr th {\n",
       "        vertical-align: top;\n",
       "    }\n",
       "\n",
       "    .dataframe thead th {\n",
       "        text-align: right;\n",
       "    }\n",
       "</style>\n",
       "<table border=\"1\" class=\"dataframe\">\n",
       "  <thead>\n",
       "    <tr style=\"text-align: right;\">\n",
       "      <th></th>\n",
       "      <th>Unnamed: 0</th>\n",
       "      <th>Account No</th>\n",
       "      <th>Balance</th>\n",
       "      <th>Amount</th>\n",
       "      <th>Third Party Account No</th>\n",
       "      <th>Third Party Name</th>\n",
       "      <th>DateTime</th>\n",
       "      <th>Date</th>\n",
       "      <th>Timestamp</th>\n",
       "    </tr>\n",
       "  </thead>\n",
       "  <tbody>\n",
       "    <tr>\n",
       "      <th>0</th>\n",
       "      <td>0</td>\n",
       "      <td>678330503.0</td>\n",
       "      <td>2971.00</td>\n",
       "      <td>1584.00</td>\n",
       "      <td>NaN</td>\n",
       "      <td>Westport Care Home</td>\n",
       "      <td>2023-01-01 00:00:00</td>\n",
       "      <td>2023-01-01</td>\n",
       "      <td>00:00:00</td>\n",
       "    </tr>\n",
       "    <tr>\n",
       "      <th>1</th>\n",
       "      <td>1</td>\n",
       "      <td>472213568.0</td>\n",
       "      <td>3792.00</td>\n",
       "      <td>1950.00</td>\n",
       "      <td>NaN</td>\n",
       "      <td>Barbiee Boutique</td>\n",
       "      <td>2023-01-01 00:00:00</td>\n",
       "      <td>2023-01-01</td>\n",
       "      <td>00:00:00</td>\n",
       "    </tr>\n",
       "    <tr>\n",
       "      <th>2</th>\n",
       "      <td>2</td>\n",
       "      <td>472213568.0</td>\n",
       "      <td>3012.00</td>\n",
       "      <td>-780.00</td>\n",
       "      <td>283027736.0</td>\n",
       "      <td>NaN</td>\n",
       "      <td>2023-01-01 00:00:00</td>\n",
       "      <td>2023-01-01</td>\n",
       "      <td>00:00:00</td>\n",
       "    </tr>\n",
       "    <tr>\n",
       "      <th>4</th>\n",
       "      <td>4</td>\n",
       "      <td>624500124.0</td>\n",
       "      <td>3226.00</td>\n",
       "      <td>1825.00</td>\n",
       "      <td>NaN</td>\n",
       "      <td>Fat Face</td>\n",
       "      <td>2023-01-01 00:00:00</td>\n",
       "      <td>2023-01-01</td>\n",
       "      <td>00:00:00</td>\n",
       "    </tr>\n",
       "    <tr>\n",
       "      <th>5</th>\n",
       "      <td>5</td>\n",
       "      <td>203466392.0</td>\n",
       "      <td>4607.66</td>\n",
       "      <td>2841.66</td>\n",
       "      <td>NaN</td>\n",
       "      <td>Lavender Primary</td>\n",
       "      <td>2023-01-01 00:00:00</td>\n",
       "      <td>2023-01-01</td>\n",
       "      <td>00:00:00</td>\n",
       "    </tr>\n",
       "  </tbody>\n",
       "</table>\n",
       "</div>"
      ],
      "text/plain": [
       "   Unnamed: 0   Account No  Balance   Amount  Third Party Account No  \\\n",
       "0           0  678330503.0  2971.00  1584.00                     NaN   \n",
       "1           1  472213568.0  3792.00  1950.00                     NaN   \n",
       "2           2  472213568.0  3012.00  -780.00             283027736.0   \n",
       "4           4  624500124.0  3226.00  1825.00                     NaN   \n",
       "5           5  203466392.0  4607.66  2841.66                     NaN   \n",
       "\n",
       "     Third Party Name             DateTime        Date Timestamp  \n",
       "0  Westport Care Home  2023-01-01 00:00:00  2023-01-01  00:00:00  \n",
       "1    Barbiee Boutique  2023-01-01 00:00:00  2023-01-01  00:00:00  \n",
       "2                 NaN  2023-01-01 00:00:00  2023-01-01  00:00:00  \n",
       "4            Fat Face  2023-01-01 00:00:00  2023-01-01  00:00:00  \n",
       "5    Lavender Primary  2023-01-01 00:00:00  2023-01-01  00:00:00  "
      ]
     },
     "execution_count": 14,
     "metadata": {},
     "output_type": "execute_result"
    }
   ],
   "source": [
    "# get account numbers in bank_amount_incomings dataset\n",
    "account_numbers = bank_amount_incomings['Account No'].unique()\n",
    "\n",
    "\n",
    "# match df dataframe with these account numbers\n",
    "df_salaried_people = bank[bank['Account No'].isin(account_numbers)]\n",
    "\n",
    "df_salaried_people.head()"
   ]
  },
  {
   "cell_type": "code",
   "execution_count": 15,
   "metadata": {},
   "outputs": [
    {
     "data": {
      "text/html": [
       "<div>\n",
       "<style scoped>\n",
       "    .dataframe tbody tr th:only-of-type {\n",
       "        vertical-align: middle;\n",
       "    }\n",
       "\n",
       "    .dataframe tbody tr th {\n",
       "        vertical-align: top;\n",
       "    }\n",
       "\n",
       "    .dataframe thead th {\n",
       "        text-align: right;\n",
       "    }\n",
       "</style>\n",
       "<table border=\"1\" class=\"dataframe\">\n",
       "  <thead>\n",
       "    <tr style=\"text-align: right;\">\n",
       "      <th></th>\n",
       "      <th>Unnamed: 0</th>\n",
       "      <th>Account No</th>\n",
       "      <th>Balance</th>\n",
       "      <th>Amount</th>\n",
       "      <th>Third Party Account No</th>\n",
       "      <th>Third Party Name</th>\n",
       "      <th>DateTime</th>\n",
       "      <th>Date</th>\n",
       "      <th>Timestamp</th>\n",
       "    </tr>\n",
       "  </thead>\n",
       "  <tbody>\n",
       "    <tr>\n",
       "      <th>495</th>\n",
       "      <td>495</td>\n",
       "      <td>355733816.0</td>\n",
       "      <td>526.00</td>\n",
       "      <td>-664.0</td>\n",
       "      <td>NaN</td>\n",
       "      <td>Halifax</td>\n",
       "      <td>2023-01-01 00:00:00</td>\n",
       "      <td>2023-01-01</td>\n",
       "      <td>00:00:00</td>\n",
       "    </tr>\n",
       "    <tr>\n",
       "      <th>496</th>\n",
       "      <td>496</td>\n",
       "      <td>472213568.0</td>\n",
       "      <td>2412.00</td>\n",
       "      <td>-600.0</td>\n",
       "      <td>NaN</td>\n",
       "      <td>LBG</td>\n",
       "      <td>2023-01-01 00:00:00</td>\n",
       "      <td>2023-01-01</td>\n",
       "      <td>00:00:00</td>\n",
       "    </tr>\n",
       "    <tr>\n",
       "      <th>497</th>\n",
       "      <td>497</td>\n",
       "      <td>624500124.0</td>\n",
       "      <td>2572.00</td>\n",
       "      <td>-654.0</td>\n",
       "      <td>NaN</td>\n",
       "      <td>LBG</td>\n",
       "      <td>2023-01-01 00:00:00</td>\n",
       "      <td>2023-01-01</td>\n",
       "      <td>00:00:00</td>\n",
       "    </tr>\n",
       "    <tr>\n",
       "      <th>498</th>\n",
       "      <td>498</td>\n",
       "      <td>203466392.0</td>\n",
       "      <td>3935.66</td>\n",
       "      <td>-672.0</td>\n",
       "      <td>NaN</td>\n",
       "      <td>Halifax</td>\n",
       "      <td>2023-01-01 00:00:00</td>\n",
       "      <td>2023-01-01</td>\n",
       "      <td>00:00:00</td>\n",
       "    </tr>\n",
       "    <tr>\n",
       "      <th>499</th>\n",
       "      <td>499</td>\n",
       "      <td>768271776.0</td>\n",
       "      <td>2208.00</td>\n",
       "      <td>-632.0</td>\n",
       "      <td>NaN</td>\n",
       "      <td>LBG</td>\n",
       "      <td>2023-01-01 00:00:00</td>\n",
       "      <td>2023-01-01</td>\n",
       "      <td>00:00:00</td>\n",
       "    </tr>\n",
       "  </tbody>\n",
       "</table>\n",
       "</div>"
      ],
      "text/plain": [
       "     Unnamed: 0   Account No  Balance  Amount  Third Party Account No  \\\n",
       "495         495  355733816.0   526.00  -664.0                     NaN   \n",
       "496         496  472213568.0  2412.00  -600.0                     NaN   \n",
       "497         497  624500124.0  2572.00  -654.0                     NaN   \n",
       "498         498  203466392.0  3935.66  -672.0                     NaN   \n",
       "499         499  768271776.0  2208.00  -632.0                     NaN   \n",
       "\n",
       "    Third Party Name             DateTime        Date Timestamp  \n",
       "495          Halifax  2023-01-01 00:00:00  2023-01-01  00:00:00  \n",
       "496              LBG  2023-01-01 00:00:00  2023-01-01  00:00:00  \n",
       "497              LBG  2023-01-01 00:00:00  2023-01-01  00:00:00  \n",
       "498          Halifax  2023-01-01 00:00:00  2023-01-01  00:00:00  \n",
       "499              LBG  2023-01-01 00:00:00  2023-01-01  00:00:00  "
      ]
     },
     "execution_count": 15,
     "metadata": {},
     "output_type": "execute_result"
    }
   ],
   "source": [
    "# filter df_salaried_people for negative transactions\n",
    "df_salaried_people_outgoings = df_salaried_people[df_salaried_people['Amount'] < 0]\n",
    "\n",
    "# filter where the 'Third Party Name' is not null\n",
    "df_salaried_people_outgoings = df_salaried_people_outgoings[df_salaried_people_outgoings['Third Party Name'].notnull()]\n",
    "\n",
    "df_salaried_people_outgoings.head()"
   ]
  },
  {
   "cell_type": "code",
   "execution_count": 16,
   "metadata": {},
   "outputs": [
    {
     "data": {
      "text/plain": [
       "Account No\n",
       "101531259.0    -7414.55\n",
       "104832000.0    -6743.52\n",
       "106601471.0    -7991.60\n",
       "108481285.0   -11672.28\n",
       "108563213.0   -16493.64\n",
       "Name: Amount, dtype: float64"
      ]
     },
     "execution_count": 16,
     "metadata": {},
     "output_type": "execute_result"
    }
   ],
   "source": [
    "# remove Third Party Name == LBG or Halifax\n",
    "df_salaried_people_outgoings = df_salaried_people_outgoings[~df_salaried_people_outgoings['Third Party Name'].isin(['LBG','Halifax'])]\n",
    "\n",
    "# group by Account No and sum the 'Amount' for each account but normalise dividing by number of transactions for each account\n",
    "salaried_people_outgoings_sum_trans = df_salaried_people_outgoings.groupby('Account No')['Amount'].sum()\n",
    "\n",
    "salaried_people_outgoings_sum_trans.head()  "
   ]
  },
  {
   "cell_type": "code",
   "execution_count": 17,
   "metadata": {},
   "outputs": [
    {
     "data": {
      "text/html": [
       "<div>\n",
       "<style scoped>\n",
       "    .dataframe tbody tr th:only-of-type {\n",
       "        vertical-align: middle;\n",
       "    }\n",
       "\n",
       "    .dataframe tbody tr th {\n",
       "        vertical-align: top;\n",
       "    }\n",
       "\n",
       "    .dataframe thead th {\n",
       "        text-align: right;\n",
       "    }\n",
       "</style>\n",
       "<table border=\"1\" class=\"dataframe\">\n",
       "  <thead>\n",
       "    <tr style=\"text-align: right;\">\n",
       "      <th></th>\n",
       "      <th>Income</th>\n",
       "      <th>Outgoing Spend</th>\n",
       "    </tr>\n",
       "    <tr>\n",
       "      <th>Account No</th>\n",
       "      <th></th>\n",
       "      <th></th>\n",
       "    </tr>\n",
       "  </thead>\n",
       "  <tbody>\n",
       "    <tr>\n",
       "      <th>101531259.0</th>\n",
       "      <td>16967.5</td>\n",
       "      <td>-7414.55</td>\n",
       "    </tr>\n",
       "    <tr>\n",
       "      <th>104832000.0</th>\n",
       "      <td>18425.0</td>\n",
       "      <td>-6743.52</td>\n",
       "    </tr>\n",
       "    <tr>\n",
       "      <th>106601471.0</th>\n",
       "      <td>18425.0</td>\n",
       "      <td>-7991.60</td>\n",
       "    </tr>\n",
       "    <tr>\n",
       "      <th>108481285.0</th>\n",
       "      <td>17424.0</td>\n",
       "      <td>-11672.28</td>\n",
       "    </tr>\n",
       "    <tr>\n",
       "      <th>108563213.0</th>\n",
       "      <td>41239.0</td>\n",
       "      <td>-16493.64</td>\n",
       "    </tr>\n",
       "  </tbody>\n",
       "</table>\n",
       "</div>"
      ],
      "text/plain": [
       "              Income  Outgoing Spend\n",
       "Account No                          \n",
       "101531259.0  16967.5        -7414.55\n",
       "104832000.0  18425.0        -6743.52\n",
       "106601471.0  18425.0        -7991.60\n",
       "108481285.0  17424.0       -11672.28\n",
       "108563213.0  41239.0       -16493.64"
      ]
     },
     "execution_count": 17,
     "metadata": {},
     "output_type": "execute_result"
    }
   ],
   "source": [
    "# join salaried_people_outgoings_sum_trans to income_per_account - merge on 'Account No'\n",
    "salaried_people = pd.merge(income_per_account, salaried_people_outgoings_sum_trans , on='Account No', how='inner')\n",
    "\n",
    "col_names = ['Income', 'Outgoing Spend']\n",
    "\n",
    "salaried_people.columns = col_names\n",
    "\n",
    "salaried_people.head()"
   ]
  },
  {
   "cell_type": "code",
   "execution_count": 18,
   "metadata": {},
   "outputs": [
    {
     "data": {
      "text/plain": [
       "Account No\n",
       "858989281.0    694\n",
       "259015404.0    668\n",
       "549414742.0    654\n",
       "532478725.0    644\n",
       "441274121.0    628\n",
       "Name: count, dtype: int64"
      ]
     },
     "execution_count": 18,
     "metadata": {},
     "output_type": "execute_result"
    }
   ],
   "source": [
    "# get frequency of transactions for each account from the df_salaried_people_outgoings dataset\n",
    "salaried_people_outgoings_freq = df_salaried_people_outgoings['Account No'].value_counts()\n",
    "\n",
    "salaried_people_outgoings_freq.head()"
   ]
  },
  {
   "cell_type": "code",
   "execution_count": 19,
   "metadata": {},
   "outputs": [
    {
     "data": {
      "text/html": [
       "<div>\n",
       "<style scoped>\n",
       "    .dataframe tbody tr th:only-of-type {\n",
       "        vertical-align: middle;\n",
       "    }\n",
       "\n",
       "    .dataframe tbody tr th {\n",
       "        vertical-align: top;\n",
       "    }\n",
       "\n",
       "    .dataframe thead th {\n",
       "        text-align: right;\n",
       "    }\n",
       "</style>\n",
       "<table border=\"1\" class=\"dataframe\">\n",
       "  <thead>\n",
       "    <tr style=\"text-align: right;\">\n",
       "      <th></th>\n",
       "      <th>Income</th>\n",
       "      <th>Outgoing Spend</th>\n",
       "      <th>Frequency</th>\n",
       "    </tr>\n",
       "    <tr>\n",
       "      <th>Account No</th>\n",
       "      <th></th>\n",
       "      <th></th>\n",
       "      <th></th>\n",
       "    </tr>\n",
       "  </thead>\n",
       "  <tbody>\n",
       "    <tr>\n",
       "      <th>101531259.0</th>\n",
       "      <td>16967.5</td>\n",
       "      <td>7414.55</td>\n",
       "      <td>100</td>\n",
       "    </tr>\n",
       "    <tr>\n",
       "      <th>104832000.0</th>\n",
       "      <td>18425.0</td>\n",
       "      <td>6743.52</td>\n",
       "      <td>126</td>\n",
       "    </tr>\n",
       "    <tr>\n",
       "      <th>106601471.0</th>\n",
       "      <td>18425.0</td>\n",
       "      <td>7991.60</td>\n",
       "      <td>182</td>\n",
       "    </tr>\n",
       "    <tr>\n",
       "      <th>108481285.0</th>\n",
       "      <td>17424.0</td>\n",
       "      <td>11672.28</td>\n",
       "      <td>342</td>\n",
       "    </tr>\n",
       "    <tr>\n",
       "      <th>108563213.0</th>\n",
       "      <td>41239.0</td>\n",
       "      <td>16493.64</td>\n",
       "      <td>386</td>\n",
       "    </tr>\n",
       "  </tbody>\n",
       "</table>\n",
       "</div>"
      ],
      "text/plain": [
       "              Income  Outgoing Spend  Frequency\n",
       "Account No                                     \n",
       "101531259.0  16967.5         7414.55        100\n",
       "104832000.0  18425.0         6743.52        126\n",
       "106601471.0  18425.0         7991.60        182\n",
       "108481285.0  17424.0        11672.28        342\n",
       "108563213.0  41239.0        16493.64        386"
      ]
     },
     "execution_count": 19,
     "metadata": {},
     "output_type": "execute_result"
    }
   ],
   "source": [
    "# merge this onto salaried_people\n",
    "salaried_people = pd.merge(salaried_people, salaried_people_outgoings_freq, left_index=True, right_index=True, how='inner')\n",
    "\n",
    "col_names = ['Income', 'Outgoing Spend', 'Frequency']\n",
    "\n",
    "salaried_people.columns = col_names\n",
    "\n",
    "# make Outgoing Spend positive\n",
    "salaried_people['Outgoing Spend'] = salaried_people['Outgoing Spend'].abs()\n",
    "\n",
    "salaried_people.head()"
   ]
  },
  {
   "cell_type": "code",
   "execution_count": 20,
   "metadata": {},
   "outputs": [
    {
     "data": {
      "text/html": [
       "<div>\n",
       "<style scoped>\n",
       "    .dataframe tbody tr th:only-of-type {\n",
       "        vertical-align: middle;\n",
       "    }\n",
       "\n",
       "    .dataframe tbody tr th {\n",
       "        vertical-align: top;\n",
       "    }\n",
       "\n",
       "    .dataframe thead th {\n",
       "        text-align: right;\n",
       "    }\n",
       "</style>\n",
       "<table border=\"1\" class=\"dataframe\">\n",
       "  <thead>\n",
       "    <tr style=\"text-align: right;\">\n",
       "      <th></th>\n",
       "      <th>Account No</th>\n",
       "      <th>Income</th>\n",
       "      <th>Outgoing Spend</th>\n",
       "      <th>Frequency</th>\n",
       "    </tr>\n",
       "  </thead>\n",
       "  <tbody>\n",
       "    <tr>\n",
       "      <th>0</th>\n",
       "      <td>101531259.0</td>\n",
       "      <td>16967.5</td>\n",
       "      <td>7414.55</td>\n",
       "      <td>100</td>\n",
       "    </tr>\n",
       "    <tr>\n",
       "      <th>1</th>\n",
       "      <td>104832000.0</td>\n",
       "      <td>18425.0</td>\n",
       "      <td>6743.52</td>\n",
       "      <td>126</td>\n",
       "    </tr>\n",
       "    <tr>\n",
       "      <th>2</th>\n",
       "      <td>106601471.0</td>\n",
       "      <td>18425.0</td>\n",
       "      <td>7991.60</td>\n",
       "      <td>182</td>\n",
       "    </tr>\n",
       "    <tr>\n",
       "      <th>3</th>\n",
       "      <td>108481285.0</td>\n",
       "      <td>17424.0</td>\n",
       "      <td>11672.28</td>\n",
       "      <td>342</td>\n",
       "    </tr>\n",
       "    <tr>\n",
       "      <th>4</th>\n",
       "      <td>108563213.0</td>\n",
       "      <td>41239.0</td>\n",
       "      <td>16493.64</td>\n",
       "      <td>386</td>\n",
       "    </tr>\n",
       "  </tbody>\n",
       "</table>\n",
       "</div>"
      ],
      "text/plain": [
       "    Account No   Income  Outgoing Spend  Frequency\n",
       "0  101531259.0  16967.5         7414.55        100\n",
       "1  104832000.0  18425.0         6743.52        126\n",
       "2  106601471.0  18425.0         7991.60        182\n",
       "3  108481285.0  17424.0        11672.28        342\n",
       "4  108563213.0  41239.0        16493.64        386"
      ]
     },
     "execution_count": 20,
     "metadata": {},
     "output_type": "execute_result"
    }
   ],
   "source": [
    "# Set Account No as a column and reset the index\n",
    "salaried_people.reset_index(inplace=True)\n",
    "\n",
    "salaried_people.rename(columns={'index':'Account No'}, inplace=True)\n",
    "\n",
    "salaried_people.head()"
   ]
  },
  {
   "cell_type": "markdown",
   "metadata": {},
   "source": [
    "#### Ratio of spend to income"
   ]
  },
  {
   "cell_type": "code",
   "execution_count": 21,
   "metadata": {},
   "outputs": [
    {
     "data": {
      "text/html": [
       "<div>\n",
       "<style scoped>\n",
       "    .dataframe tbody tr th:only-of-type {\n",
       "        vertical-align: middle;\n",
       "    }\n",
       "\n",
       "    .dataframe tbody tr th {\n",
       "        vertical-align: top;\n",
       "    }\n",
       "\n",
       "    .dataframe thead th {\n",
       "        text-align: right;\n",
       "    }\n",
       "</style>\n",
       "<table border=\"1\" class=\"dataframe\">\n",
       "  <thead>\n",
       "    <tr style=\"text-align: right;\">\n",
       "      <th></th>\n",
       "      <th>Account No</th>\n",
       "      <th>Income</th>\n",
       "      <th>Outgoing Spend</th>\n",
       "      <th>Frequency</th>\n",
       "      <th>Outgoing to Income Ratio</th>\n",
       "    </tr>\n",
       "  </thead>\n",
       "  <tbody>\n",
       "    <tr>\n",
       "      <th>0</th>\n",
       "      <td>101531259.0</td>\n",
       "      <td>16967.5</td>\n",
       "      <td>7414.55</td>\n",
       "      <td>100</td>\n",
       "      <td>0.436985</td>\n",
       "    </tr>\n",
       "    <tr>\n",
       "      <th>1</th>\n",
       "      <td>104832000.0</td>\n",
       "      <td>18425.0</td>\n",
       "      <td>6743.52</td>\n",
       "      <td>126</td>\n",
       "      <td>0.365998</td>\n",
       "    </tr>\n",
       "    <tr>\n",
       "      <th>2</th>\n",
       "      <td>106601471.0</td>\n",
       "      <td>18425.0</td>\n",
       "      <td>7991.60</td>\n",
       "      <td>182</td>\n",
       "      <td>0.433737</td>\n",
       "    </tr>\n",
       "    <tr>\n",
       "      <th>3</th>\n",
       "      <td>108481285.0</td>\n",
       "      <td>17424.0</td>\n",
       "      <td>11672.28</td>\n",
       "      <td>342</td>\n",
       "      <td>0.669897</td>\n",
       "    </tr>\n",
       "    <tr>\n",
       "      <th>4</th>\n",
       "      <td>108563213.0</td>\n",
       "      <td>41239.0</td>\n",
       "      <td>16493.64</td>\n",
       "      <td>386</td>\n",
       "      <td>0.399952</td>\n",
       "    </tr>\n",
       "  </tbody>\n",
       "</table>\n",
       "</div>"
      ],
      "text/plain": [
       "    Account No   Income  Outgoing Spend  Frequency  Outgoing to Income Ratio\n",
       "0  101531259.0  16967.5         7414.55        100                  0.436985\n",
       "1  104832000.0  18425.0         6743.52        126                  0.365998\n",
       "2  106601471.0  18425.0         7991.60        182                  0.433737\n",
       "3  108481285.0  17424.0        11672.28        342                  0.669897\n",
       "4  108563213.0  41239.0        16493.64        386                  0.399952"
      ]
     },
     "execution_count": 21,
     "metadata": {},
     "output_type": "execute_result"
    }
   ],
   "source": [
    "# calculate ratio of Outgoing Spend to Income\n",
    "salaried_people['Outgoing to Income Ratio'] = salaried_people['Outgoing Spend']/salaried_people['Income']\n",
    "\n",
    "salaried_people.head()"
   ]
  },
  {
   "cell_type": "code",
   "execution_count": 22,
   "metadata": {},
   "outputs": [
    {
     "data": {
      "text/plain": [
       "<Axes: xlabel='Outgoing to Income Ratio', ylabel='Count'>"
      ]
     },
     "execution_count": 22,
     "metadata": {},
     "output_type": "execute_result"
    },
    {
     "data": {
      "image/png": "[encoded data removed]",
      "text/plain": [
       "<Figure size 640x480 with 1 Axes>"
      ]
     },
     "metadata": {},
     "output_type": "display_data"
    }
   ],
   "source": [
    "# plot distribution of Outgoing to Income Ratio\n",
    "sns.histplot(salaried_people['Outgoing to Income Ratio'], fill=True,bins=25)"
   ]
  },
  {
   "cell_type": "code",
   "execution_count": 35,
   "metadata": {},
   "outputs": [
    {
     "data": {
      "text/plain": [
       "<Axes: xlabel='Outgoing to Income Ratio', ylabel='Count'>"
      ]
     },
     "execution_count": 35,
     "metadata": {},
     "output_type": "execute_result"
    },
    {
     "data": {
      "image/png": "[encoded data removed]",
      "text/plain": [
       "<Figure size 640x480 with 1 Axes>"
      ]
     },
     "metadata": {},
     "output_type": "display_data"
    }
   ],
   "source": [
    "income_spend_ratio = salaried_people['Outgoing to Income Ratio']\n",
    "\n",
    "# log transform the ratio\n",
    "log_income_spend_ratio = np.log(income_spend_ratio)\n",
    "\n",
    "# plot distribution of log transformed ratio\n",
    "sns.histplot(log_income_spend_ratio, fill=True,bins=15)"
   ]
  },
  {
   "cell_type": "code",
   "execution_count": 44,
   "metadata": {},
   "outputs": [
    {
     "name": "stdout",
     "output_type": "stream",
     "text": [
      "High threshold:  0.7020579545260159\n",
      "Low threshold:  0.27559406253404156\n"
     ]
    }
   ],
   "source": [
    "# mean and standard deviation of log transformed ratio\n",
    "mean_log = log_income_spend_ratio.mean()\n",
    "std_log = log_income_spend_ratio.std()\n",
    "\n",
    "# calculate 1 standard deviation above and below the mean threshold\n",
    "high_threshold = np.exp(mean_log + std_log)\n",
    "low_threshold = np.exp(mean_log - std_log)\n",
    "\n",
    "# print thresholds\n",
    "print('High threshold: ', high_threshold)\n",
    "print('Low threshold: ', low_threshold)\n",
    "\n",
    "# create risk feature based on the thresholds\n",
    "salaried_people['Risk'] = np.where(salaried_people['Outgoing to Income Ratio'] > high_threshold, 'High', 'Low')"
   ]
  },
  {
   "cell_type": "code",
   "execution_count": 39,
   "metadata": {},
   "outputs": [
    {
     "data": {
      "text/plain": [
       "0    0.436985\n",
       "1    0.365998\n",
       "2    0.433737\n",
       "3    0.669897\n",
       "4    0.399952\n",
       "Name: Outgoing to Income Ratio, dtype: object"
      ]
     },
     "execution_count": 39,
     "metadata": {},
     "output_type": "execute_result"
    }
   ],
   "source": [
    "income_spend_ratio.head()"
   ]
  },
  {
   "cell_type": "markdown",
   "metadata": {},
   "source": [
    "#### Daily average number of transactions"
   ]
  },
  {
   "cell_type": "code",
   "execution_count": 24,
   "metadata": {},
   "outputs": [
    {
     "data": {
      "text/html": [
       "<div>\n",
       "<style scoped>\n",
       "    .dataframe tbody tr th:only-of-type {\n",
       "        vertical-align: middle;\n",
       "    }\n",
       "\n",
       "    .dataframe tbody tr th {\n",
       "        vertical-align: top;\n",
       "    }\n",
       "\n",
       "    .dataframe thead th {\n",
       "        text-align: right;\n",
       "    }\n",
       "</style>\n",
       "<table border=\"1\" class=\"dataframe\">\n",
       "  <thead>\n",
       "    <tr style=\"text-align: right;\">\n",
       "      <th></th>\n",
       "      <th>Account No</th>\n",
       "      <th>Income</th>\n",
       "      <th>Outgoing Spend</th>\n",
       "      <th>Frequency</th>\n",
       "      <th>Outgoing to Income Ratio</th>\n",
       "      <th>Daily Average Transactions</th>\n",
       "      <th>Daily Average Transactions to Income</th>\n",
       "    </tr>\n",
       "  </thead>\n",
       "  <tbody>\n",
       "    <tr>\n",
       "      <th>0</th>\n",
       "      <td>101531259.0</td>\n",
       "      <td>16967.5</td>\n",
       "      <td>7414.55</td>\n",
       "      <td>100</td>\n",
       "      <td>0.436985</td>\n",
       "      <td>0.294118</td>\n",
       "      <td>0.000017</td>\n",
       "    </tr>\n",
       "    <tr>\n",
       "      <th>1</th>\n",
       "      <td>104832000.0</td>\n",
       "      <td>18425.0</td>\n",
       "      <td>6743.52</td>\n",
       "      <td>126</td>\n",
       "      <td>0.365998</td>\n",
       "      <td>0.370588</td>\n",
       "      <td>0.000020</td>\n",
       "    </tr>\n",
       "    <tr>\n",
       "      <th>2</th>\n",
       "      <td>106601471.0</td>\n",
       "      <td>18425.0</td>\n",
       "      <td>7991.60</td>\n",
       "      <td>182</td>\n",
       "      <td>0.433737</td>\n",
       "      <td>0.535294</td>\n",
       "      <td>0.000029</td>\n",
       "    </tr>\n",
       "    <tr>\n",
       "      <th>3</th>\n",
       "      <td>108481285.0</td>\n",
       "      <td>17424.0</td>\n",
       "      <td>11672.28</td>\n",
       "      <td>342</td>\n",
       "      <td>0.669897</td>\n",
       "      <td>1.005882</td>\n",
       "      <td>0.000058</td>\n",
       "    </tr>\n",
       "    <tr>\n",
       "      <th>4</th>\n",
       "      <td>108563213.0</td>\n",
       "      <td>41239.0</td>\n",
       "      <td>16493.64</td>\n",
       "      <td>386</td>\n",
       "      <td>0.399952</td>\n",
       "      <td>1.135294</td>\n",
       "      <td>0.000028</td>\n",
       "    </tr>\n",
       "  </tbody>\n",
       "</table>\n",
       "</div>"
      ],
      "text/plain": [
       "    Account No   Income  Outgoing Spend  Frequency  Outgoing to Income Ratio  \\\n",
       "0  101531259.0  16967.5         7414.55        100                  0.436985   \n",
       "1  104832000.0  18425.0         6743.52        126                  0.365998   \n",
       "2  106601471.0  18425.0         7991.60        182                  0.433737   \n",
       "3  108481285.0  17424.0        11672.28        342                  0.669897   \n",
       "4  108563213.0  41239.0        16493.64        386                  0.399952   \n",
       "\n",
       "   Daily Average Transactions  Daily Average Transactions to Income  \n",
       "0                    0.294118                              0.000017  \n",
       "1                    0.370588                              0.000020  \n",
       "2                    0.535294                              0.000029  \n",
       "3                    1.005882                              0.000058  \n",
       "4                    1.135294                              0.000028  "
      ]
     },
     "execution_count": 24,
     "metadata": {},
     "output_type": "execute_result"
    }
   ],
   "source": [
    "# calculate daily average number of transactions for each account from the df_salaried_people_outgoings dataset\n",
    "\n",
    "# get the number of days in the dataset\n",
    "days = df_salaried_people_outgoings['Date'].nunique()\n",
    "\n",
    "# create a new column 'Daily Average Transactions' in salaried_people\n",
    "salaried_people['Daily Average Transactions'] = salaried_people['Frequency']/days\n",
    "\n",
    "# ratio of Daily Average Transactions to Income\n",
    "salaried_people['Daily Average Transactions to Income'] = salaried_people['Daily Average Transactions']/salaried_people['Income']\n",
    "\n",
    "salaried_people.head()"
   ]
  },
  {
   "cell_type": "code",
   "execution_count": 25,
   "metadata": {},
   "outputs": [
    {
     "data": {
      "text/plain": [
       "<Axes: xlabel='Daily Average Transactions to Income', ylabel='Count'>"
      ]
     },
     "execution_count": 25,
     "metadata": {},
     "output_type": "execute_result"
    },
    {
     "data": {
      "image/png": "[encoded data removed]",
      "text/plain": [
       "<Figure size 640x480 with 1 Axes>"
      ]
     },
     "metadata": {},
     "output_type": "display_data"
    }
   ],
   "source": [
    "# distribution of daily average transactions to income\n",
    "sns.histplot(salaried_people['Daily Average Transactions to Income'], fill=True,bins=25)"
   ]
  },
  {
   "cell_type": "code",
   "execution_count": 26,
   "metadata": {},
   "outputs": [
    {
     "data": {
      "text/plain": [
       "<Axes: xlabel='Frequency to Income', ylabel='Count'>"
      ]
     },
     "execution_count": 26,
     "metadata": {},
     "output_type": "execute_result"
    },
    {
     "data": {
      "image/png": "[encoded data removed]",
      "text/plain": [
       "<Figure size 640x480 with 1 Axes>"
      ]
     },
     "metadata": {},
     "output_type": "display_data"
    }
   ],
   "source": [
    "#frequency of transactions to income\n",
    "salaried_people['Frequency to Income'] = salaried_people['Frequency']/salaried_people['Income']\n",
    "\n",
    "# plot distribution of Daily Average Transactions to Income\n",
    "sns.histplot(salaried_people['Frequency to Income'], fill=True,bins=25)"
   ]
  },
  {
   "cell_type": "markdown",
   "metadata": {},
   "source": [
    "#### K-Means on Pseudo-RFM"
   ]
  },
  {
   "cell_type": "code",
   "execution_count": 27,
   "metadata": {},
   "outputs": [],
   "source": [
    "# get array of income, outgoing spend and frequency columns\n",
    "x = salaried_people.iloc[:,1:4].values\n",
    "\n",
    "# log transform the data\n",
    "x_log = np.log(x)\n",
    "\n",
    "# standardise the data\n",
    "from sklearn.preprocessing import StandardScaler\n",
    "\n",
    "scaler = StandardScaler()\n",
    "\n",
    "x_scaled = scaler.fit_transform(x_log)\n",
    "\n",
    "# import KMeans\n",
    "from sklearn.cluster import KMeans\n",
    "\n",
    "# import metrics\n",
    "from sklearn import metrics\n",
    "\n",
    "\n",
    "# create loop to find the optimal number of clusters\n",
    "wcss = []\n",
    "silhouette = []\n",
    "\n",
    "\n",
    "for i in range(2,11):\n",
    "    kmeans = KMeans(n_clusters=i, init='k-means++', max_iter=300, n_init=10, random_state=0)\n",
    "    kmeans.fit(x_scaled)\n",
    "    wcss.append(kmeans.inertia_)\n",
    "    silhouette.append(metrics.silhouette_score(x_scaled, kmeans.labels_))\n"
   ]
  },
  {
   "cell_type": "code",
   "execution_count": 28,
   "metadata": {},
   "outputs": [
    {
     "data": {
      "image/png": "[encoded data removed]",
      "text/plain": [
       "<Figure size 1500x500 with 2 Axes>"
      ]
     },
     "metadata": {},
     "output_type": "display_data"
    }
   ],
   "source": [
    "# plot the elbow method and silhouette score in a subplot\n",
    "fig, ax = plt.subplots(1,2, figsize=(15,5))\n",
    "\n",
    "# plot elbow method\n",
    "ax[0].plot(range(2,11), wcss, marker='o', linestyle='--')\n",
    "ax[0].set_title('Elbow Method')\n",
    "ax[0].set_xlabel('Number of Clusters')\n",
    "ax[0].set_ylabel('WCSS')\n",
    "\n",
    "# plot silhouette score\n",
    "ax[1].plot(range(2,11), silhouette, marker='o', linestyle='--')\n",
    "ax[1].set_title('Silhouette Score')\n",
    "ax[1].set_xlabel('Number of Clusters')\n",
    "ax[1].set_ylabel('Silhouette Score')\n",
    "\n",
    "plt.show()\n",
    "\n"
   ]
  },
  {
   "cell_type": "code",
   "execution_count": 29,
   "metadata": {},
   "outputs": [
    {
     "data": {
      "text/plain": [
       "Text(0.5, 1.0, 'Snake Plot of Clusters')"
      ]
     },
     "execution_count": 29,
     "metadata": {},
     "output_type": "execute_result"
    },
    {
     "data": {
      "image/png": "[encoded data removed]",
      "text/plain": [
       "<Figure size 800x600 with 1 Axes>"
      ]
     },
     "metadata": {},
     "output_type": "display_data"
    }
   ],
   "source": [
    "# select 4 clusters\n",
    "kmeans = KMeans(n_clusters=4, init='k-means++', max_iter=300, random_state=0)\n",
    "\n",
    "# fit the model\n",
    "kmeans.fit(x_scaled)\n",
    "\n",
    "# add the cluster labels to the salaried_people dataframe\n",
    "salaried_people['Cluster'] = kmeans.labels_\n",
    "\n",
    "#snake plot to visualise the clusters\n",
    "# create a dataframe from x_scaled\n",
    "df_scaled = pd.DataFrame(x_scaled, columns=['Income', 'Outgoing Spend', 'Frequency'])\n",
    "\n",
    "# add the cluster labels to the df_scaled dataframe\n",
    "df_scaled['Cluster'] = kmeans.labels_\n",
    "\n",
    "# melt the dataframe\n",
    "df_melt = pd.melt(df_scaled, id_vars='Cluster', var_name='Metrics', value_name='Values')\n",
    "\n",
    "# create a snake plot\n",
    "plt.figure(figsize=(8,6))\n",
    "\n",
    "sns.lineplot(x='Metrics', y='Values', hue='Cluster', data=df_melt, palette='viridis',errorbar=None)\n",
    "\n",
    "plt.title('Snake Plot of Clusters')"
   ]
  },
  {
   "cell_type": "code",
   "execution_count": 30,
   "metadata": {},
   "outputs": [
    {
     "data": {
      "text/html": [
       "<div>\n",
       "<style scoped>\n",
       "    .dataframe tbody tr th:only-of-type {\n",
       "        vertical-align: middle;\n",
       "    }\n",
       "\n",
       "    .dataframe tbody tr th {\n",
       "        vertical-align: top;\n",
       "    }\n",
       "\n",
       "    .dataframe thead th {\n",
       "        text-align: right;\n",
       "    }\n",
       "</style>\n",
       "<table border=\"1\" class=\"dataframe\">\n",
       "  <thead>\n",
       "    <tr style=\"text-align: right;\">\n",
       "      <th></th>\n",
       "      <th>Income</th>\n",
       "      <th>Outgoing Spend</th>\n",
       "      <th>Frequency</th>\n",
       "    </tr>\n",
       "    <tr>\n",
       "      <th>Cluster</th>\n",
       "      <th></th>\n",
       "      <th></th>\n",
       "      <th></th>\n",
       "    </tr>\n",
       "  </thead>\n",
       "  <tbody>\n",
       "    <tr>\n",
       "      <th>0</th>\n",
       "      <td>-0.110299</td>\n",
       "      <td>-0.224239</td>\n",
       "      <td>-0.323980</td>\n",
       "    </tr>\n",
       "    <tr>\n",
       "      <th>1</th>\n",
       "      <td>-0.282745</td>\n",
       "      <td>-0.603691</td>\n",
       "      <td>-0.605154</td>\n",
       "    </tr>\n",
       "    <tr>\n",
       "      <th>2</th>\n",
       "      <td>-0.245393</td>\n",
       "      <td>0.284316</td>\n",
       "      <td>0.243579</td>\n",
       "    </tr>\n",
       "    <tr>\n",
       "      <th>3</th>\n",
       "      <td>0.433088</td>\n",
       "      <td>0.265301</td>\n",
       "      <td>0.411689</td>\n",
       "    </tr>\n",
       "  </tbody>\n",
       "</table>\n",
       "</div>"
      ],
      "text/plain": [
       "           Income  Outgoing Spend  Frequency\n",
       "Cluster                                     \n",
       "0       -0.110299       -0.224239  -0.323980\n",
       "1       -0.282745       -0.603691  -0.605154\n",
       "2       -0.245393        0.284316   0.243579\n",
       "3        0.433088        0.265301   0.411689"
      ]
     },
     "execution_count": 30,
     "metadata": {},
     "output_type": "execute_result"
    }
   ],
   "source": [
    "rel_imp = salaried_people[['Income','Outgoing Spend','Frequency', 'Cluster']]\n",
    "\n",
    "cluster_avg = rel_imp.groupby('Cluster').mean()\n",
    "\n",
    "population_avg = salaried_people[['Income','Outgoing Spend','Frequency']].mean()\n",
    "\n",
    "relative_imp = (cluster_avg / population_avg) - 1\n",
    "\n",
    "relative_imp.head()"
   ]
  },
  {
   "cell_type": "code",
   "execution_count": 31,
   "metadata": {},
   "outputs": [
    {
     "data": {
      "image/png": "[encoded data removed]",
      "text/plain": [
       "<Figure size 800x600 with 2 Axes>"
      ]
     },
     "metadata": {},
     "output_type": "display_data"
    }
   ],
   "source": [
    "# plot relative importance\n",
    "plt.figure(figsize=(8,6))\n",
    "ax_heat=sns.heatmap(data=relative_imp, annot=True, fmt='.2f', cmap='viridis')"
   ]
  },
  {
   "cell_type": "code",
   "execution_count": 32,
   "metadata": {},
   "outputs": [
    {
     "data": {
      "image/png": "[encoded data removed]",
      "text/plain": [
       "<Figure size 800x600 with 1 Axes>"
      ]
     },
     "metadata": {},
     "output_type": "display_data"
    }
   ],
   "source": [
    "# plot as a line plot\n",
    "plt.figure(figsize=(8,6))\n",
    "\n",
    "sns.lineplot(data=relative_imp.T, marker='o')\n",
    "\n",
    "plt.title('Relative Importance of Clusters')\n",
    "plt.axhline(0, color='black', linestyle='--')\n",
    "\n",
    "plt.legend()\n",
    "plt.show()\n"
   ]
  }
 ],
 "metadata": {
  "kernelspec": {
   "display_name": "Python 3",
   "language": "python",
   "name": "python3"
  },
  "language_info": {
   "codemirror_mode": {
    "name": "ipython",
    "version": 3
   },
   "file_extension": ".py",
   "mimetype": "text/x-python",
   "name": "python",
   "nbconvert_exporter": "python",
   "pygments_lexer": "ipython3",
   "version": "3.12.1"
  }
 },
 "nbformat": 4,
 "nbformat_minor": 2
}
